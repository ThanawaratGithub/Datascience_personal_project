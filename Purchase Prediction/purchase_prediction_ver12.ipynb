{
 "cells": [
  {
   "cell_type": "code",
   "execution_count": 1,
   "metadata": {
    "execution": {
     "iopub.execute_input": "2023-01-22T15:51:13.683554Z",
     "iopub.status.busy": "2023-01-22T15:51:13.682846Z",
     "iopub.status.idle": "2023-01-22T15:51:21.419639Z",
     "shell.execute_reply": "2023-01-22T15:51:21.417689Z",
     "shell.execute_reply.started": "2023-01-22T15:51:13.683520Z"
    }
   },
   "outputs": [],
   "source": [
    "import numpy as np # linear algebra\n",
    "import pandas as pd # data processing, CSV file I/O (e.g. pd.read_csv)\n",
    "from sklearn.model_selection import train_test_split # model split\n",
    "import tensorflow as tf #tensorflow\n",
    "from sklearn.feature_extraction.text import CountVectorizer #\n",
    "from sklearn.feature_extraction.text import TfidfTransformer\n",
    "import tensorflow as tf\n",
    "from tensorflow import keras\n",
    "from tensorflow.keras import layers\n",
    "from sklearn.naive_bayes import MultinomialNB\n",
    "from sklearn.pipeline import Pipeline\n",
    "from sklearn.linear_model import LogisticRegression\n",
    "import seaborn as sns \n",
    "import matplotlib.pyplot as plt\n",
    "from sklearn.preprocessing import OneHotEncoder , LabelEncoder\n",
    "from sklearn.metrics import accuracy_score , roc_auc_score , confusion_matrix"
   ]
  },
  {
   "cell_type": "code",
   "execution_count": 2,
   "metadata": {
    "execution": {
     "iopub.execute_input": "2023-01-22T15:51:21.422997Z",
     "iopub.status.busy": "2023-01-22T15:51:21.422099Z",
     "iopub.status.idle": "2023-01-22T15:51:21.434733Z",
     "shell.execute_reply": "2023-01-22T15:51:21.431414Z",
     "shell.execute_reply.started": "2023-01-22T15:51:21.422955Z"
    }
   },
   "outputs": [],
   "source": [
    "def order_cluster(df, target_field_name, cluster_field_name, ascending):\n",
    "    \"\"\"\n",
    "    INPUT:\n",
    "        - df                  - pandas DataFrame\n",
    "        - target_field_name   - str - A column in the pandas DataFrame df\n",
    "        - cluster_field_name  - str - Expected to be a column in the pandas DataFrame df\n",
    "        - ascending           - Boolean\n",
    "        \n",
    "    OUTPUT:\n",
    "        - df_final            - pandas DataFrame with target_field_name and cluster_field_name as columns\n",
    "    \n",
    "    \"\"\"\n",
    "    # Add the string \"new_\" to cluster_field_name\n",
    "    new_cluster_field_name = \"new_\" + cluster_field_name\n",
    "    \n",
    "    # Create a new dataframe by grouping the input dataframe by cluster_field_name and extract target_field_name \n",
    "    # and find the mean\n",
    "    df_new = df.groupby(cluster_field_name)[target_field_name].mean().reset_index()\n",
    "    \n",
    "    # Sort the new dataframe df_new, by target_field_name in descending order\n",
    "    df_new = df_new.sort_values(by=target_field_name, ascending=ascending).reset_index(drop=True)\n",
    "    \n",
    "    # Create a new column in df_new with column name index and assign it values to df_new.index\n",
    "    df_new[\"index\"] = df_new.index\n",
    "    \n",
    "    # Create a new dataframe by merging input dataframe df and part of the columns of df_new based on \n",
    "    # cluster_field_name\n",
    "    df_final = pd.merge(df, df_new[[cluster_field_name, \"index\"]], on=cluster_field_name)\n",
    "    \n",
    "    # Update the dataframe df_final by deleting the column cluster_field_name\n",
    "    df_final = df_final.drop([cluster_field_name], axis=1)\n",
    "    \n",
    "    # Rename the column index to cluster_field_name\n",
    "    df_final = df_final.rename(columns={\"index\": cluster_field_name})\n",
    "    \n",
    "    return df_final"
   ]
  },
  {
   "cell_type": "code",
   "execution_count": 3,
   "metadata": {
    "execution": {
     "iopub.execute_input": "2023-01-22T15:51:21.437729Z",
     "iopub.status.busy": "2023-01-22T15:51:21.437195Z",
     "iopub.status.idle": "2023-01-22T15:51:21.460681Z",
     "shell.execute_reply": "2023-01-22T15:51:21.459772Z",
     "shell.execute_reply.started": "2023-01-22T15:51:21.437655Z"
    }
   },
   "outputs": [],
   "source": [
    "# ฟังก์ชันเปลี่ยนเวลาที่เป็น string เป็น Datetime\n",
    "from datetime import datetime\n",
    "def changetime(row):\n",
    "    if type(row) == float:\n",
    "        return datetime.strptime('2000-01-01 0:0:0','%Y-%m-%d %H:%M:%S')\n",
    "    ymdstr = row.split()[0]\n",
    "    t = row.split()[1].split('.')[0]\n",
    "    ymdstr+=' '+t\n",
    "    return  datetime.strptime(ymdstr,'%Y-%m-%d %H:%M:%S')"
   ]
  },
  {
   "cell_type": "code",
   "execution_count": 4,
   "metadata": {
    "execution": {
     "iopub.execute_input": "2023-01-22T15:51:21.463955Z",
     "iopub.status.busy": "2023-01-22T15:51:21.462779Z",
     "iopub.status.idle": "2023-01-22T15:51:22.153226Z",
     "shell.execute_reply": "2023-01-22T15:51:22.151415Z",
     "shell.execute_reply.started": "2023-01-22T15:51:21.463924Z"
    }
   },
   "outputs": [],
   "source": [
    "restuarants = pd.read_csv('restaurants.csv')\n",
    "transac = pd.read_csv('transactions.csv')\n",
    "users = pd.read_csv('user_stats.csv')"
   ]
  },
  {
   "cell_type": "code",
   "execution_count": 5,
   "metadata": {
    "execution": {
     "iopub.execute_input": "2023-01-22T15:51:22.157640Z",
     "iopub.status.busy": "2023-01-22T15:51:22.157249Z",
     "iopub.status.idle": "2023-01-22T15:51:26.456467Z",
     "shell.execute_reply": "2023-01-22T15:51:26.454687Z",
     "shell.execute_reply.started": "2023-01-22T15:51:22.157611Z"
    }
   },
   "outputs": [],
   "source": [
    "# ให้ transac_dt แทน dataframe  ของ transac ที่มีการเพิ่ม feature df_createtime ซึ่งเป็น \n",
    "# สิ่งเดียวกับ createtime แต่เป็น type datetime\n",
    "transac_dt = transac.copy()\n",
    "transac_dt['df_createtime'] = transac.created_at.map(changetime)\n",
    "transac_dt['weekday'] = transac.created_at.map(changetime).map(lambda b:b.day_name())"
   ]
  },
  {
   "cell_type": "code",
   "execution_count": 6,
   "metadata": {
    "execution": {
     "iopub.execute_input": "2023-01-22T15:51:26.458527Z",
     "iopub.status.busy": "2023-01-22T15:51:26.458045Z",
     "iopub.status.idle": "2023-01-22T15:51:26.490064Z",
     "shell.execute_reply": "2023-01-22T15:51:26.487432Z",
     "shell.execute_reply.started": "2023-01-22T15:51:26.458487Z"
    }
   },
   "outputs": [
    {
     "data": {
      "text/html": [
       "<div>\n",
       "<style scoped>\n",
       "    .dataframe tbody tr th:only-of-type {\n",
       "        vertical-align: middle;\n",
       "    }\n",
       "\n",
       "    .dataframe tbody tr th {\n",
       "        vertical-align: top;\n",
       "    }\n",
       "\n",
       "    .dataframe thead th {\n",
       "        text-align: right;\n",
       "    }\n",
       "</style>\n",
       "<table border=\"1\" class=\"dataframe\">\n",
       "  <thead>\n",
       "    <tr style=\"text-align: right;\">\n",
       "      <th></th>\n",
       "      <th>transaction_id</th>\n",
       "      <th>created_at</th>\n",
       "      <th>dt</th>\n",
       "      <th>user_id</th>\n",
       "      <th>restaurant_id</th>\n",
       "      <th>status</th>\n",
       "      <th>distance</th>\n",
       "      <th>final_food_price</th>\n",
       "      <th>discount_amount</th>\n",
       "      <th>completed_at</th>\n",
       "      <th>delivery_fee</th>\n",
       "      <th>df_createtime</th>\n",
       "      <th>weekday</th>\n",
       "    </tr>\n",
       "  </thead>\n",
       "  <tbody>\n",
       "    <tr>\n",
       "      <th>0</th>\n",
       "      <td>transaction_433</td>\n",
       "      <td>2021-03-24 13:59:22.877</td>\n",
       "      <td>20210324</td>\n",
       "      <td>user_2018</td>\n",
       "      <td>restaurant_3264</td>\n",
       "      <td>COMPLETED</td>\n",
       "      <td>3963.0</td>\n",
       "      <td>24.0</td>\n",
       "      <td>NaN</td>\n",
       "      <td>2021-03-24 14:33:53.579</td>\n",
       "      <td>26.0</td>\n",
       "      <td>2021-03-24 13:59:22</td>\n",
       "      <td>Wednesday</td>\n",
       "    </tr>\n",
       "    <tr>\n",
       "      <th>1</th>\n",
       "      <td>transaction_434</td>\n",
       "      <td>2021-03-24 14:16:58.145</td>\n",
       "      <td>20210324</td>\n",
       "      <td>user_20380</td>\n",
       "      <td>restaurant_2237</td>\n",
       "      <td>COMPLETED</td>\n",
       "      <td>6208.0</td>\n",
       "      <td>117.0</td>\n",
       "      <td>NaN</td>\n",
       "      <td>2021-03-24 14:54:16.406</td>\n",
       "      <td>0.0</td>\n",
       "      <td>2021-03-24 14:16:58</td>\n",
       "      <td>Wednesday</td>\n",
       "    </tr>\n",
       "    <tr>\n",
       "      <th>2</th>\n",
       "      <td>transaction_435</td>\n",
       "      <td>2021-03-24 19:24:06.744</td>\n",
       "      <td>20210324</td>\n",
       "      <td>user_18288</td>\n",
       "      <td>restaurant_2108</td>\n",
       "      <td>CANCELED</td>\n",
       "      <td>10991.0</td>\n",
       "      <td>370.0</td>\n",
       "      <td>NaN</td>\n",
       "      <td>NaN</td>\n",
       "      <td>83.0</td>\n",
       "      <td>2021-03-24 19:24:06</td>\n",
       "      <td>Wednesday</td>\n",
       "    </tr>\n",
       "    <tr>\n",
       "      <th>3</th>\n",
       "      <td>transaction_436</td>\n",
       "      <td>2021-03-24 21:26:43.362</td>\n",
       "      <td>20210324</td>\n",
       "      <td>user_14421</td>\n",
       "      <td>restaurant_2531</td>\n",
       "      <td>CANCELED</td>\n",
       "      <td>2683.0</td>\n",
       "      <td>200.0</td>\n",
       "      <td>NaN</td>\n",
       "      <td>NaN</td>\n",
       "      <td>0.0</td>\n",
       "      <td>2021-03-24 21:26:43</td>\n",
       "      <td>Wednesday</td>\n",
       "    </tr>\n",
       "    <tr>\n",
       "      <th>4</th>\n",
       "      <td>transaction_437</td>\n",
       "      <td>2021-03-24 13:24:49.304</td>\n",
       "      <td>20210324</td>\n",
       "      <td>user_3144</td>\n",
       "      <td>restaurant_649</td>\n",
       "      <td>COMPLETED</td>\n",
       "      <td>2534.0</td>\n",
       "      <td>85.0</td>\n",
       "      <td>50.0</td>\n",
       "      <td>2021-03-24 13:48:12.440</td>\n",
       "      <td>0.0</td>\n",
       "      <td>2021-03-24 13:24:49</td>\n",
       "      <td>Wednesday</td>\n",
       "    </tr>\n",
       "  </tbody>\n",
       "</table>\n",
       "</div>"
      ],
      "text/plain": [
       "    transaction_id               created_at        dt     user_id  \\\n",
       "0  transaction_433  2021-03-24 13:59:22.877  20210324   user_2018   \n",
       "1  transaction_434  2021-03-24 14:16:58.145  20210324  user_20380   \n",
       "2  transaction_435  2021-03-24 19:24:06.744  20210324  user_18288   \n",
       "3  transaction_436  2021-03-24 21:26:43.362  20210324  user_14421   \n",
       "4  transaction_437  2021-03-24 13:24:49.304  20210324   user_3144   \n",
       "\n",
       "     restaurant_id     status  distance  final_food_price  discount_amount  \\\n",
       "0  restaurant_3264  COMPLETED    3963.0              24.0              NaN   \n",
       "1  restaurant_2237  COMPLETED    6208.0             117.0              NaN   \n",
       "2  restaurant_2108   CANCELED   10991.0             370.0              NaN   \n",
       "3  restaurant_2531   CANCELED    2683.0             200.0              NaN   \n",
       "4   restaurant_649  COMPLETED    2534.0              85.0             50.0   \n",
       "\n",
       "              completed_at  delivery_fee       df_createtime    weekday  \n",
       "0  2021-03-24 14:33:53.579          26.0 2021-03-24 13:59:22  Wednesday  \n",
       "1  2021-03-24 14:54:16.406           0.0 2021-03-24 14:16:58  Wednesday  \n",
       "2                      NaN          83.0 2021-03-24 19:24:06  Wednesday  \n",
       "3                      NaN           0.0 2021-03-24 21:26:43  Wednesday  \n",
       "4  2021-03-24 13:48:12.440           0.0 2021-03-24 13:24:49  Wednesday  "
      ]
     },
     "execution_count": 6,
     "metadata": {},
     "output_type": "execute_result"
    }
   ],
   "source": [
    "transac_dt.head()"
   ]
  },
  {
   "cell_type": "code",
   "execution_count": 7,
   "metadata": {
    "execution": {
     "iopub.execute_input": "2023-01-22T15:51:26.492230Z",
     "iopub.status.busy": "2023-01-22T15:51:26.491829Z",
     "iopub.status.idle": "2023-01-22T15:51:26.545895Z",
     "shell.execute_reply": "2023-01-22T15:51:26.543935Z",
     "shell.execute_reply.started": "2023-01-22T15:51:26.492196Z"
    }
   },
   "outputs": [
    {
     "data": {
      "text/plain": [
       "transaction_id      0.000000\n",
       "created_at          0.000000\n",
       "dt                  0.000000\n",
       "user_id             0.000000\n",
       "restaurant_id       0.000000\n",
       "status              0.000000\n",
       "distance            0.000000\n",
       "final_food_price    0.000000\n",
       "discount_amount     0.925324\n",
       "completed_at        0.112190\n",
       "delivery_fee        0.000000\n",
       "df_createtime       0.000000\n",
       "weekday             0.000000\n",
       "dtype: float64"
      ]
     },
     "execution_count": 7,
     "metadata": {},
     "output_type": "execute_result"
    }
   ],
   "source": [
    "transac_dt.isnull().sum() / transac_dt.shape[0]"
   ]
  },
  {
   "cell_type": "markdown",
   "metadata": {},
   "source": [
    "discount_amount  มี missing value ถึง 92 % ดังนั้นควรตัดออกจาก columns ไปเลย"
   ]
  },
  {
   "cell_type": "markdown",
   "metadata": {},
   "source": [
    "# EDA1 : ORDER TIME \n",
    "คิดเวลาที่เฉลี่ยที่ user 1 จะสั่งอาหารในครั้งต่อไป หลังจากการสั่งครั้งล่าสุด"
   ]
  },
  {
   "cell_type": "code",
   "execution_count": 8,
   "metadata": {
    "execution": {
     "iopub.execute_input": "2023-01-22T15:51:26.548648Z",
     "iopub.status.busy": "2023-01-22T15:51:26.548197Z",
     "iopub.status.idle": "2023-01-22T15:51:26.968636Z",
     "shell.execute_reply": "2023-01-22T15:51:26.966466Z",
     "shell.execute_reply.started": "2023-01-22T15:51:26.548617Z"
    }
   },
   "outputs": [
    {
     "data": {
      "text/html": [
       "<div>\n",
       "<style scoped>\n",
       "    .dataframe tbody tr th:only-of-type {\n",
       "        vertical-align: middle;\n",
       "    }\n",
       "\n",
       "    .dataframe tbody tr th {\n",
       "        vertical-align: top;\n",
       "    }\n",
       "\n",
       "    .dataframe thead th {\n",
       "        text-align: right;\n",
       "    }\n",
       "</style>\n",
       "<table border=\"1\" class=\"dataframe\">\n",
       "  <thead>\n",
       "    <tr style=\"text-align: right;\">\n",
       "      <th></th>\n",
       "      <th>user_id</th>\n",
       "      <th>df_createtime</th>\n",
       "      <th>dtcreate</th>\n",
       "      <th>dayfrombegin</th>\n",
       "    </tr>\n",
       "  </thead>\n",
       "  <tbody>\n",
       "    <tr>\n",
       "      <th>0</th>\n",
       "      <td>user_0</td>\n",
       "      <td>2021-03-02 12:00:26</td>\n",
       "      <td>2020-08-18 12:02:03</td>\n",
       "      <td>195</td>\n",
       "    </tr>\n",
       "    <tr>\n",
       "      <th>1</th>\n",
       "      <td>user_1</td>\n",
       "      <td>2021-02-28 18:36:53</td>\n",
       "      <td>2017-11-02 00:40:32</td>\n",
       "      <td>1214</td>\n",
       "    </tr>\n",
       "    <tr>\n",
       "      <th>2</th>\n",
       "      <td>user_10</td>\n",
       "      <td>2021-03-13 17:42:21</td>\n",
       "      <td>2020-09-25 18:19:57</td>\n",
       "      <td>168</td>\n",
       "    </tr>\n",
       "    <tr>\n",
       "      <th>3</th>\n",
       "      <td>user_100</td>\n",
       "      <td>2021-02-23 00:33:43</td>\n",
       "      <td>2020-08-03 11:11:53</td>\n",
       "      <td>203</td>\n",
       "    </tr>\n",
       "    <tr>\n",
       "      <th>4</th>\n",
       "      <td>user_1000</td>\n",
       "      <td>2021-01-06 12:24:06</td>\n",
       "      <td>2017-01-12 23:35:18</td>\n",
       "      <td>1454</td>\n",
       "    </tr>\n",
       "  </tbody>\n",
       "</table>\n",
       "</div>"
      ],
      "text/plain": [
       "     user_id       df_createtime            dtcreate  dayfrombegin\n",
       "0     user_0 2021-03-02 12:00:26 2020-08-18 12:02:03           195\n",
       "1     user_1 2021-02-28 18:36:53 2017-11-02 00:40:32          1214\n",
       "2    user_10 2021-03-13 17:42:21 2020-09-25 18:19:57           168\n",
       "3   user_100 2021-02-23 00:33:43 2020-08-03 11:11:53           203\n",
       "4  user_1000 2021-01-06 12:24:06 2017-01-12 23:35:18          1454"
      ]
     },
     "execution_count": 8,
     "metadata": {},
     "output_type": "execute_result"
    }
   ],
   "source": [
    "dtusercreate = pd.DataFrame(users.created_at.map(changetime))\n",
    "dtusercreate.columns = ['dtcreate']\n",
    "dtusercreate['user_id'] = users.user_id\n",
    "dtusercreate.head()\n",
    "\n",
    "daydiff = transac_dt[['user_id','df_createtime']].merge(dtusercreate , on = 'user_id').groupby('user_id')[['df_createtime','dtcreate']].max().reset_index()\n",
    "daydiff['dayfrombegin'] = (daydiff['df_createtime'] - daydiff['dtcreate']).dt.days\n",
    "daydiff.head()"
   ]
  },
  {
   "cell_type": "code",
   "execution_count": 9,
   "metadata": {
    "execution": {
     "iopub.execute_input": "2023-01-22T15:51:26.971929Z",
     "iopub.status.busy": "2023-01-22T15:51:26.971413Z",
     "iopub.status.idle": "2023-01-22T15:51:27.122348Z",
     "shell.execute_reply": "2023-01-22T15:51:27.120200Z",
     "shell.execute_reply.started": "2023-01-22T15:51:26.971891Z"
    }
   },
   "outputs": [],
   "source": [
    "t_all = transac_dt.groupby('user_id').df_createtime.agg(['max','min','count']).reset_index()\n",
    "\n",
    "daydiff = transac_dt[['user_id','df_createtime']].merge(dtusercreate , on = 'user_id').groupby('user_id')[['df_createtime','dtcreate']].max().reset_index()\n",
    "daydiff['dayfrombegin'] = (daydiff['df_createtime'] - daydiff['dtcreate']).dt.days\n",
    "\n",
    "t_all = t_all.merge(daydiff[['user_id' , 'dayfrombegin']] , on = 'user_id')\n",
    "t_all['av_day'] = ((t_all['max'] - t_all['min']).dt.days)/(t_all['count'])\n",
    "t_all['interval'] = ((t_all['max'] - t_all['min']).dt.days)\n"
   ]
  },
  {
   "cell_type": "markdown",
   "metadata": {},
   "source": [
    "* dayfrombegin  คือ ตัวแปรที่บอกว่าลูกค้าอยู่กับเรามากี่วันแล้ว\n",
    "* av_day คือ ระยะเวลาเฉลี่ยระหว่างการสั่ง 2 order ข้อสังเกตคือ มีค่าเป็น 0 ค่อนข้างมาก ดูได้จาก count == 1 หมายความว่า มีลูกค้าหลายคนพึ่งสั่งเป็นครั้งแรก\n",
    "* interval คือระยะเวลา นับตั้งแต่มีการสั่งorderแรก"
   ]
  },
  {
   "cell_type": "code",
   "execution_count": 10,
   "metadata": {
    "execution": {
     "iopub.execute_input": "2023-01-22T15:51:27.127866Z",
     "iopub.status.busy": "2023-01-22T15:51:27.127357Z",
     "iopub.status.idle": "2023-01-22T15:51:27.438933Z",
     "shell.execute_reply": "2023-01-22T15:51:27.436867Z",
     "shell.execute_reply.started": "2023-01-22T15:51:27.127825Z"
    }
   },
   "outputs": [
    {
     "data": {
      "text/plain": [
       "<AxesSubplot:xlabel='av_day', ylabel='Density'>"
      ]
     },
     "execution_count": 10,
     "metadata": {},
     "output_type": "execute_result"
    },
    {
     "data": {
      "image/png": "[encoded data removed]",
      "text/plain": [
       "<Figure size 640x480 with 1 Axes>"
      ]
     },
     "metadata": {},
     "output_type": "display_data"
    }
   ],
   "source": [
    "sns.kdeplot(t_all.av_day)"
   ]
  },
  {
   "cell_type": "code",
   "execution_count": 11,
   "metadata": {
    "execution": {
     "iopub.execute_input": "2023-01-22T15:51:27.440856Z",
     "iopub.status.busy": "2023-01-22T15:51:27.440495Z",
     "iopub.status.idle": "2023-01-22T15:51:27.464536Z",
     "shell.execute_reply": "2023-01-22T15:51:27.462888Z",
     "shell.execute_reply.started": "2023-01-22T15:51:27.440827Z"
    }
   },
   "outputs": [
    {
     "data": {
      "text/html": [
       "<div>\n",
       "<style scoped>\n",
       "    .dataframe tbody tr th:only-of-type {\n",
       "        vertical-align: middle;\n",
       "    }\n",
       "\n",
       "    .dataframe tbody tr th {\n",
       "        vertical-align: top;\n",
       "    }\n",
       "\n",
       "    .dataframe thead th {\n",
       "        text-align: right;\n",
       "    }\n",
       "</style>\n",
       "<table border=\"1\" class=\"dataframe\">\n",
       "  <thead>\n",
       "    <tr style=\"text-align: right;\">\n",
       "      <th></th>\n",
       "      <th>count</th>\n",
       "      <th>mean</th>\n",
       "      <th>std</th>\n",
       "      <th>min</th>\n",
       "      <th>25%</th>\n",
       "      <th>50%</th>\n",
       "      <th>75%</th>\n",
       "      <th>max</th>\n",
       "    </tr>\n",
       "  </thead>\n",
       "  <tbody>\n",
       "    <tr>\n",
       "      <th>av_day</th>\n",
       "      <td>2716.0</td>\n",
       "      <td>0.707277</td>\n",
       "      <td>0.853938</td>\n",
       "      <td>0.0</td>\n",
       "      <td>0.0</td>\n",
       "      <td>0.5</td>\n",
       "      <td>1.0</td>\n",
       "      <td>3.0</td>\n",
       "    </tr>\n",
       "  </tbody>\n",
       "</table>\n",
       "</div>"
      ],
      "text/plain": [
       "         count      mean       std  min  25%  50%  75%  max\n",
       "av_day  2716.0  0.707277  0.853938  0.0  0.0  0.5  1.0  3.0"
      ]
     },
     "execution_count": 11,
     "metadata": {},
     "output_type": "execute_result"
    }
   ],
   "source": [
    "pd.DataFrame(t_all[(t_all['count'] > 1) & (t_all.interval < 7)].av_day.describe()).T"
   ]
  },
  {
   "cell_type": "markdown",
   "metadata": {},
   "source": [
    "จะเห็นได้ว่า 100% ของคน คนที่สั่งมากกว่า 1 ครั้ง ใน 2 อาทิตย์ จะมีแนวโน้ม ที่จะสั่งอีกครั้ง ใน 4 วัน (0 นับเป็นวันที่ 1) หลังจากออร์เดอร์ล่าสุด"
   ]
  },
  {
   "cell_type": "code",
   "execution_count": 12,
   "metadata": {
    "execution": {
     "iopub.execute_input": "2023-01-22T15:51:27.466394Z",
     "iopub.status.busy": "2023-01-22T15:51:27.466035Z",
     "iopub.status.idle": "2023-01-22T15:51:27.487259Z",
     "shell.execute_reply": "2023-01-22T15:51:27.485974Z",
     "shell.execute_reply.started": "2023-01-22T15:51:27.466359Z"
    }
   },
   "outputs": [
    {
     "data": {
      "text/html": [
       "<div>\n",
       "<style scoped>\n",
       "    .dataframe tbody tr th:only-of-type {\n",
       "        vertical-align: middle;\n",
       "    }\n",
       "\n",
       "    .dataframe tbody tr th {\n",
       "        vertical-align: top;\n",
       "    }\n",
       "\n",
       "    .dataframe thead th {\n",
       "        text-align: right;\n",
       "    }\n",
       "</style>\n",
       "<table border=\"1\" class=\"dataframe\">\n",
       "  <thead>\n",
       "    <tr style=\"text-align: right;\">\n",
       "      <th></th>\n",
       "      <th>count</th>\n",
       "      <th>mean</th>\n",
       "      <th>std</th>\n",
       "      <th>min</th>\n",
       "      <th>25%</th>\n",
       "      <th>50%</th>\n",
       "      <th>75%</th>\n",
       "      <th>max</th>\n",
       "    </tr>\n",
       "  </thead>\n",
       "  <tbody>\n",
       "    <tr>\n",
       "      <th>av_day</th>\n",
       "      <td>3950.0</td>\n",
       "      <td>1.517693</td>\n",
       "      <td>1.652809</td>\n",
       "      <td>0.0</td>\n",
       "      <td>0.0</td>\n",
       "      <td>1.0</td>\n",
       "      <td>2.5</td>\n",
       "      <td>6.5</td>\n",
       "    </tr>\n",
       "  </tbody>\n",
       "</table>\n",
       "</div>"
      ],
      "text/plain": [
       "         count      mean       std  min  25%  50%  75%  max\n",
       "av_day  3950.0  1.517693  1.652809  0.0  0.0  1.0  2.5  6.5"
      ]
     },
     "execution_count": 12,
     "metadata": {},
     "output_type": "execute_result"
    }
   ],
   "source": [
    "pd.DataFrame(t_all[(t_all['count'] > 1) & (t_all.interval < 14)].av_day.describe()).T"
   ]
  },
  {
   "cell_type": "markdown",
   "metadata": {},
   "source": [
    "จะเห็นได้ว่า 75% ของคน คนที่สั่งมากกว่า 1 ครั้ง ใน 2 อาทิตย์ จะมีแนวโน้ม ที่จะสั่งอีกครั้ง ใน 2 วัน (0 นับเป็นวันที่ 1) หลังจากออร์เดอร์ล่าสุด"
   ]
  },
  {
   "cell_type": "code",
   "execution_count": 13,
   "metadata": {
    "execution": {
     "iopub.execute_input": "2023-01-22T15:51:27.489135Z",
     "iopub.status.busy": "2023-01-22T15:51:27.488809Z",
     "iopub.status.idle": "2023-01-22T15:51:27.512130Z",
     "shell.execute_reply": "2023-01-22T15:51:27.511281Z",
     "shell.execute_reply.started": "2023-01-22T15:51:27.489109Z"
    }
   },
   "outputs": [
    {
     "data": {
      "text/html": [
       "<div>\n",
       "<style scoped>\n",
       "    .dataframe tbody tr th:only-of-type {\n",
       "        vertical-align: middle;\n",
       "    }\n",
       "\n",
       "    .dataframe tbody tr th {\n",
       "        vertical-align: top;\n",
       "    }\n",
       "\n",
       "    .dataframe thead th {\n",
       "        text-align: right;\n",
       "    }\n",
       "</style>\n",
       "<table border=\"1\" class=\"dataframe\">\n",
       "  <thead>\n",
       "    <tr style=\"text-align: right;\">\n",
       "      <th></th>\n",
       "      <th>count</th>\n",
       "      <th>mean</th>\n",
       "      <th>std</th>\n",
       "      <th>min</th>\n",
       "      <th>25%</th>\n",
       "      <th>50%</th>\n",
       "      <th>75%</th>\n",
       "      <th>max</th>\n",
       "    </tr>\n",
       "  </thead>\n",
       "  <tbody>\n",
       "    <tr>\n",
       "      <th>av_day</th>\n",
       "      <td>6406.0</td>\n",
       "      <td>3.205851</td>\n",
       "      <td>3.27668</td>\n",
       "      <td>0.0</td>\n",
       "      <td>0.5</td>\n",
       "      <td>2.25</td>\n",
       "      <td>4.8</td>\n",
       "      <td>14.5</td>\n",
       "    </tr>\n",
       "  </tbody>\n",
       "</table>\n",
       "</div>"
      ],
      "text/plain": [
       "         count      mean      std  min  25%   50%  75%   max\n",
       "av_day  6406.0  3.205851  3.27668  0.0  0.5  2.25  4.8  14.5"
      ]
     },
     "execution_count": 13,
     "metadata": {},
     "output_type": "execute_result"
    }
   ],
   "source": [
    "pd.DataFrame(t_all[(t_all['count'] > 1) & (t_all.interval < 30)].av_day.describe()).T"
   ]
  },
  {
   "cell_type": "markdown",
   "metadata": {},
   "source": [
    "จะเห็นได้ว่า 50% ของคน คนที่สั่งมากกว่า 1 ครั้ง ใน 2 อาทิตย์ จะมีแนวโน้ม ที่จะสั่งอีกครั้ง ใน 3.25 วัน(0 นับเป็นวันที่ 1) หลังจากออร์เดอร์ล่าสุด"
   ]
  },
  {
   "cell_type": "markdown",
   "metadata": {},
   "source": [
    "ข้อสรุป : \n",
    "**เราจะใช้ตัวแปรของการสั่งภายในระยะเวลา ใน feature engineering**"
   ]
  },
  {
   "cell_type": "markdown",
   "metadata": {},
   "source": [
    "# INSIGHT1: 10 อันดับร้านอาหารขายดี"
   ]
  },
  {
   "cell_type": "code",
   "execution_count": 14,
   "metadata": {
    "execution": {
     "iopub.execute_input": "2023-01-22T15:51:27.513640Z",
     "iopub.status.busy": "2023-01-22T15:51:27.513267Z",
     "iopub.status.idle": "2023-01-22T15:51:27.808812Z",
     "shell.execute_reply": "2023-01-22T15:51:27.807920Z",
     "shell.execute_reply.started": "2023-01-22T15:51:27.513607Z"
    }
   },
   "outputs": [
    {
     "data": {
      "text/plain": [
       "<AxesSubplot:xlabel='order_count', ylabel='resname'>"
      ]
     },
     "execution_count": 14,
     "metadata": {},
     "output_type": "execute_result"
    },
    {
     "data": {
      "image/png": "[encoded data removed]",
      "text/plain": [
       "<Figure size 1400x600 with 1 Axes>"
      ]
     },
     "metadata": {},
     "output_type": "display_data"
    }
   ],
   "source": [
    "plt.figure(figsize =(14,6))\n",
    "res = pd.DataFrame(transac_dt[transac_dt.status  == 'COMPLETED'].restaurant_id.value_counts()[:10]).reset_index()\n",
    "res.columns = ['resname','order_count']\n",
    "sns.barplot(data = res , y = 'resname' , x = 'order_count')"
   ]
  },
  {
   "cell_type": "markdown",
   "metadata": {},
   "source": [
    "10 ร้านที่ขายดีที่สุดนั้น มีลักษณะอย่างไร ?"
   ]
  },
  {
   "cell_type": "code",
   "execution_count": 15,
   "metadata": {
    "execution": {
     "iopub.execute_input": "2023-01-22T15:51:27.810846Z",
     "iopub.status.busy": "2023-01-22T15:51:27.810306Z",
     "iopub.status.idle": "2023-01-22T15:51:27.815426Z",
     "shell.execute_reply": "2023-01-22T15:51:27.814538Z",
     "shell.execute_reply.started": "2023-01-22T15:51:27.810810Z"
    }
   },
   "outputs": [],
   "source": [
    "popres = list(res['resname'])"
   ]
  },
  {
   "cell_type": "code",
   "execution_count": 16,
   "metadata": {
    "execution": {
     "iopub.execute_input": "2023-01-22T15:51:27.817953Z",
     "iopub.status.busy": "2023-01-22T15:51:27.816638Z",
     "iopub.status.idle": "2023-01-22T15:51:27.843498Z",
     "shell.execute_reply": "2023-01-22T15:51:27.841094Z",
     "shell.execute_reply.started": "2023-01-22T15:51:27.817912Z"
    }
   },
   "outputs": [
    {
     "data": {
      "text/html": [
       "<div>\n",
       "<style scoped>\n",
       "    .dataframe tbody tr th:only-of-type {\n",
       "        vertical-align: middle;\n",
       "    }\n",
       "\n",
       "    .dataframe tbody tr th {\n",
       "        vertical-align: top;\n",
       "    }\n",
       "\n",
       "    .dataframe thead th {\n",
       "        text-align: right;\n",
       "    }\n",
       "</style>\n",
       "<table border=\"1\" class=\"dataframe\">\n",
       "  <thead>\n",
       "    <tr style=\"text-align: right;\">\n",
       "      <th></th>\n",
       "      <th>restaurant_id</th>\n",
       "      <th>main_category</th>\n",
       "      <th>price_range</th>\n",
       "      <th>added_date</th>\n",
       "      <th>total_menu</th>\n",
       "      <th>total_menu_with_photos</th>\n",
       "      <th>total_review</th>\n",
       "      <th>rating</th>\n",
       "    </tr>\n",
       "  </thead>\n",
       "  <tbody>\n",
       "    <tr>\n",
       "      <th>654</th>\n",
       "      <td>restaurant_654</td>\n",
       "      <td>À La Carte</td>\n",
       "      <td>Less than 100</td>\n",
       "      <td>2012-11-24 03:26:09.000</td>\n",
       "      <td>86</td>\n",
       "      <td>65</td>\n",
       "      <td>123</td>\n",
       "      <td>4.0</td>\n",
       "    </tr>\n",
       "    <tr>\n",
       "      <th>712</th>\n",
       "      <td>restaurant_712</td>\n",
       "      <td>Thai</td>\n",
       "      <td>ไม่มีข้อมูล</td>\n",
       "      <td>2020-05-06 23:03:13.000</td>\n",
       "      <td>144</td>\n",
       "      <td>50</td>\n",
       "      <td>0</td>\n",
       "      <td>0.0</td>\n",
       "    </tr>\n",
       "    <tr>\n",
       "      <th>1315</th>\n",
       "      <td>restaurant_1315</td>\n",
       "      <td>À La Carte</td>\n",
       "      <td>Less than 100</td>\n",
       "      <td>2017-05-20 21:51:10.000</td>\n",
       "      <td>154</td>\n",
       "      <td>42</td>\n",
       "      <td>1</td>\n",
       "      <td>4.0</td>\n",
       "    </tr>\n",
       "    <tr>\n",
       "      <th>1385</th>\n",
       "      <td>restaurant_1385</td>\n",
       "      <td>Thai</td>\n",
       "      <td>Less than 100</td>\n",
       "      <td>2016-01-30 22:54:53.000</td>\n",
       "      <td>29</td>\n",
       "      <td>18</td>\n",
       "      <td>14</td>\n",
       "      <td>3.8</td>\n",
       "    </tr>\n",
       "    <tr>\n",
       "      <th>1445</th>\n",
       "      <td>restaurant_1445</td>\n",
       "      <td>Café/Coffee Shop</td>\n",
       "      <td>Less than 100</td>\n",
       "      <td>2020-02-06 21:30:20.000</td>\n",
       "      <td>134</td>\n",
       "      <td>134</td>\n",
       "      <td>1</td>\n",
       "      <td>4.0</td>\n",
       "    </tr>\n",
       "    <tr>\n",
       "      <th>1752</th>\n",
       "      <td>restaurant_1752</td>\n",
       "      <td>Rice Dish</td>\n",
       "      <td>Less than 100</td>\n",
       "      <td>2019-06-26 03:24:13.000</td>\n",
       "      <td>142</td>\n",
       "      <td>5</td>\n",
       "      <td>7</td>\n",
       "      <td>3.9</td>\n",
       "    </tr>\n",
       "    <tr>\n",
       "      <th>2052</th>\n",
       "      <td>restaurant_2052</td>\n",
       "      <td>Fastfood</td>\n",
       "      <td>Less than 100</td>\n",
       "      <td>2020-06-12 03:32:12.000</td>\n",
       "      <td>52</td>\n",
       "      <td>52</td>\n",
       "      <td>0</td>\n",
       "      <td>0.0</td>\n",
       "    </tr>\n",
       "    <tr>\n",
       "      <th>2227</th>\n",
       "      <td>restaurant_2227</td>\n",
       "      <td>Café/Coffee Shop</td>\n",
       "      <td>Less than 100</td>\n",
       "      <td>2020-09-24 22:40:13.000</td>\n",
       "      <td>135</td>\n",
       "      <td>135</td>\n",
       "      <td>1</td>\n",
       "      <td>0.0</td>\n",
       "    </tr>\n",
       "    <tr>\n",
       "      <th>3259</th>\n",
       "      <td>restaurant_3259</td>\n",
       "      <td>Café/Coffee Shop</td>\n",
       "      <td>Less than 100</td>\n",
       "      <td>2012-11-23 01:02:08.000</td>\n",
       "      <td>118</td>\n",
       "      <td>118</td>\n",
       "      <td>10</td>\n",
       "      <td>3.6</td>\n",
       "    </tr>\n",
       "    <tr>\n",
       "      <th>3291</th>\n",
       "      <td>restaurant_3291</td>\n",
       "      <td>Café/Coffee Shop</td>\n",
       "      <td>Less than 100</td>\n",
       "      <td>2020-09-23 20:44:31.000</td>\n",
       "      <td>145</td>\n",
       "      <td>145</td>\n",
       "      <td>0</td>\n",
       "      <td>0.0</td>\n",
       "    </tr>\n",
       "  </tbody>\n",
       "</table>\n",
       "</div>"
      ],
      "text/plain": [
       "        restaurant_id     main_category    price_range  \\\n",
       "654    restaurant_654        À La Carte  Less than 100   \n",
       "712    restaurant_712              Thai    ไม่มีข้อมูล   \n",
       "1315  restaurant_1315        À La Carte  Less than 100   \n",
       "1385  restaurant_1385              Thai  Less than 100   \n",
       "1445  restaurant_1445  Café/Coffee Shop  Less than 100   \n",
       "1752  restaurant_1752         Rice Dish  Less than 100   \n",
       "2052  restaurant_2052          Fastfood  Less than 100   \n",
       "2227  restaurant_2227  Café/Coffee Shop  Less than 100   \n",
       "3259  restaurant_3259  Café/Coffee Shop  Less than 100   \n",
       "3291  restaurant_3291  Café/Coffee Shop  Less than 100   \n",
       "\n",
       "                   added_date  total_menu  total_menu_with_photos  \\\n",
       "654   2012-11-24 03:26:09.000          86                      65   \n",
       "712   2020-05-06 23:03:13.000         144                      50   \n",
       "1315  2017-05-20 21:51:10.000         154                      42   \n",
       "1385  2016-01-30 22:54:53.000          29                      18   \n",
       "1445  2020-02-06 21:30:20.000         134                     134   \n",
       "1752  2019-06-26 03:24:13.000         142                       5   \n",
       "2052  2020-06-12 03:32:12.000          52                      52   \n",
       "2227  2020-09-24 22:40:13.000         135                     135   \n",
       "3259  2012-11-23 01:02:08.000         118                     118   \n",
       "3291  2020-09-23 20:44:31.000         145                     145   \n",
       "\n",
       "      total_review  rating  \n",
       "654            123     4.0  \n",
       "712              0     0.0  \n",
       "1315             1     4.0  \n",
       "1385            14     3.8  \n",
       "1445             1     4.0  \n",
       "1752             7     3.9  \n",
       "2052             0     0.0  \n",
       "2227             1     0.0  \n",
       "3259            10     3.6  \n",
       "3291             0     0.0  "
      ]
     },
     "execution_count": 16,
     "metadata": {},
     "output_type": "execute_result"
    }
   ],
   "source": [
    "top10res = restuarants[restuarants.restaurant_id .isin( popres)]\n",
    "top10res"
   ]
  },
  {
   "cell_type": "code",
   "execution_count": 17,
   "metadata": {
    "execution": {
     "iopub.execute_input": "2023-01-22T15:51:27.847522Z",
     "iopub.status.busy": "2023-01-22T15:51:27.845548Z",
     "iopub.status.idle": "2023-01-22T15:51:28.067789Z",
     "shell.execute_reply": "2023-01-22T15:51:28.066504Z",
     "shell.execute_reply.started": "2023-01-22T15:51:27.847467Z"
    }
   },
   "outputs": [
    {
     "data": {
      "text/plain": [
       "<AxesSubplot:xlabel='total_menu', ylabel='Count'>"
      ]
     },
     "execution_count": 17,
     "metadata": {},
     "output_type": "execute_result"
    },
    {
     "data": {
      "image/png": "[encoded data removed]",
      "text/plain": [
       "<Figure size 640x480 with 1 Axes>"
      ]
     },
     "metadata": {},
     "output_type": "display_data"
    }
   ],
   "source": [
    "sns.histplot(data = top10res , x = 'total_menu')"
   ]
  },
  {
   "cell_type": "code",
   "execution_count": 18,
   "metadata": {
    "execution": {
     "iopub.execute_input": "2023-01-22T15:51:28.070606Z",
     "iopub.status.busy": "2023-01-22T15:51:28.070084Z",
     "iopub.status.idle": "2023-01-22T15:51:28.274291Z",
     "shell.execute_reply": "2023-01-22T15:51:28.273049Z",
     "shell.execute_reply.started": "2023-01-22T15:51:28.070569Z"
    }
   },
   "outputs": [
    {
     "data": {
      "text/plain": [
       "<AxesSubplot:xlabel='total_review', ylabel='Count'>"
      ]
     },
     "execution_count": 18,
     "metadata": {},
     "output_type": "execute_result"
    },
    {
     "data": {
      "image/png": "[encoded data removed]",
      "text/plain": [
       "<Figure size 640x480 with 1 Axes>"
      ]
     },
     "metadata": {},
     "output_type": "display_data"
    }
   ],
   "source": [
    "sns.histplot(data = top10res , x = 'total_review')"
   ]
  },
  {
   "cell_type": "code",
   "execution_count": 19,
   "metadata": {
    "execution": {
     "iopub.execute_input": "2023-01-22T15:51:28.276601Z",
     "iopub.status.busy": "2023-01-22T15:51:28.275490Z",
     "iopub.status.idle": "2023-01-22T15:51:28.446502Z",
     "shell.execute_reply": "2023-01-22T15:51:28.445510Z",
     "shell.execute_reply.started": "2023-01-22T15:51:28.276509Z"
    }
   },
   "outputs": [
    {
     "data": {
      "text/plain": [
       "<AxesSubplot:xlabel='rating', ylabel='count'>"
      ]
     },
     "execution_count": 19,
     "metadata": {},
     "output_type": "execute_result"
    },
    {
     "data": {
      "image/png": "[encoded data removed]",
      "text/plain": [
       "<Figure size 640x480 with 1 Axes>"
      ]
     },
     "metadata": {},
     "output_type": "display_data"
    }
   ],
   "source": [
    "sns.countplot(data = top10res , x = 'rating')"
   ]
  },
  {
   "cell_type": "code",
   "execution_count": 20,
   "metadata": {
    "execution": {
     "iopub.execute_input": "2023-01-22T15:51:28.448304Z",
     "iopub.status.busy": "2023-01-22T15:51:28.447886Z",
     "iopub.status.idle": "2023-01-22T15:51:28.632506Z",
     "shell.execute_reply": "2023-01-22T15:51:28.631047Z",
     "shell.execute_reply.started": "2023-01-22T15:51:28.448266Z"
    }
   },
   "outputs": [
    {
     "data": {
      "text/plain": [
       "<AxesSubplot:xlabel='main_category', ylabel='count'>"
      ]
     },
     "execution_count": 20,
     "metadata": {},
     "output_type": "execute_result"
    },
    {
     "data": {
      "image/png": "[encoded data removed]",
      "text/plain": [
       "<Figure size 640x480 with 1 Axes>"
      ]
     },
     "metadata": {},
     "output_type": "display_data"
    }
   ],
   "source": [
    "sns.countplot(data = top10res , x = 'main_category')"
   ]
  },
  {
   "cell_type": "markdown",
   "metadata": {},
   "source": [
    "**Conclusion :** ร้านที่ขายดีส่วนใหญ่นั้น ไม่ได้เกี่ยวกับ rating มากเท่าที่ควร แต่มี 2 ปัจจัย  1. ราคาถูก 2.จำนวนเมนูเยอะ  ดังนั้นจากประโยชน์ตรงนี้เราอาจ encourage ร้านค้าใน แอพ ให้ เพิ่มจำนวนรูปของสินค้า และเพิ่มเมนู เพื่อโอกาสที่จะขายได้มากขึ้น "
   ]
  },
  {
   "cell_type": "markdown",
   "metadata": {},
   "source": [
    "# EDA 2 : TIME SINCE REGISTER \n",
    "ระยะเวลาที่ user อยู่กับแอพ มีผลต่อการสั่งที่มากขึ้นไหม ?"
   ]
  },
  {
   "cell_type": "code",
   "execution_count": 21,
   "metadata": {
    "execution": {
     "iopub.execute_input": "2023-01-22T15:51:28.635840Z",
     "iopub.status.busy": "2023-01-22T15:51:28.635209Z",
     "iopub.status.idle": "2023-01-22T15:51:28.650784Z",
     "shell.execute_reply": "2023-01-22T15:51:28.648607Z",
     "shell.execute_reply.started": "2023-01-22T15:51:28.635803Z"
    }
   },
   "outputs": [
    {
     "data": {
      "text/html": [
       "<div>\n",
       "<style scoped>\n",
       "    .dataframe tbody tr th:only-of-type {\n",
       "        vertical-align: middle;\n",
       "    }\n",
       "\n",
       "    .dataframe tbody tr th {\n",
       "        vertical-align: top;\n",
       "    }\n",
       "\n",
       "    .dataframe thead th {\n",
       "        text-align: right;\n",
       "    }\n",
       "</style>\n",
       "<table border=\"1\" class=\"dataframe\">\n",
       "  <thead>\n",
       "    <tr style=\"text-align: right;\">\n",
       "      <th></th>\n",
       "      <th>user_id</th>\n",
       "      <th>first_order_at</th>\n",
       "      <th>first_completed_order_at</th>\n",
       "      <th>created_at</th>\n",
       "    </tr>\n",
       "  </thead>\n",
       "  <tbody>\n",
       "    <tr>\n",
       "      <th>0</th>\n",
       "      <td>user_0</td>\n",
       "      <td>2020-08-24 08:53:02.008</td>\n",
       "      <td>2020-08-24 08:55:43.217</td>\n",
       "      <td>2020-08-18 12:02:03.000</td>\n",
       "    </tr>\n",
       "    <tr>\n",
       "      <th>1</th>\n",
       "      <td>user_1</td>\n",
       "      <td>2021-02-28 18:36:53.652</td>\n",
       "      <td>2021-02-28 18:36:53.652</td>\n",
       "      <td>2017-11-02 00:40:32.188</td>\n",
       "    </tr>\n",
       "    <tr>\n",
       "      <th>2</th>\n",
       "      <td>user_2</td>\n",
       "      <td>2021-02-24 14:02:03.807</td>\n",
       "      <td>2021-02-24 14:02:03.807</td>\n",
       "      <td>2020-08-20 12:15:07.000</td>\n",
       "    </tr>\n",
       "    <tr>\n",
       "      <th>3</th>\n",
       "      <td>user_3</td>\n",
       "      <td>2021-01-21 08:47:45.533</td>\n",
       "      <td>2021-01-21 08:47:45.533</td>\n",
       "      <td>2021-01-21 08:38:07.000</td>\n",
       "    </tr>\n",
       "    <tr>\n",
       "      <th>4</th>\n",
       "      <td>user_4</td>\n",
       "      <td>2021-01-19 12:28:27.929</td>\n",
       "      <td>2021-01-19 12:28:27.929</td>\n",
       "      <td>2021-01-19 12:25:59.000</td>\n",
       "    </tr>\n",
       "  </tbody>\n",
       "</table>\n",
       "</div>"
      ],
      "text/plain": [
       "  user_id           first_order_at first_completed_order_at  \\\n",
       "0  user_0  2020-08-24 08:53:02.008  2020-08-24 08:55:43.217   \n",
       "1  user_1  2021-02-28 18:36:53.652  2021-02-28 18:36:53.652   \n",
       "2  user_2  2021-02-24 14:02:03.807  2021-02-24 14:02:03.807   \n",
       "3  user_3  2021-01-21 08:47:45.533  2021-01-21 08:47:45.533   \n",
       "4  user_4  2021-01-19 12:28:27.929  2021-01-19 12:28:27.929   \n",
       "\n",
       "                created_at  \n",
       "0  2020-08-18 12:02:03.000  \n",
       "1  2017-11-02 00:40:32.188  \n",
       "2  2020-08-20 12:15:07.000  \n",
       "3  2021-01-21 08:38:07.000  \n",
       "4  2021-01-19 12:25:59.000  "
      ]
     },
     "execution_count": 21,
     "metadata": {},
     "output_type": "execute_result"
    }
   ],
   "source": [
    "users.head()"
   ]
  },
  {
   "cell_type": "code",
   "execution_count": 22,
   "metadata": {
    "execution": {
     "iopub.execute_input": "2023-01-22T15:51:28.653316Z",
     "iopub.status.busy": "2023-01-22T15:51:28.652853Z",
     "iopub.status.idle": "2023-01-22T15:51:29.014940Z",
     "shell.execute_reply": "2023-01-22T15:51:29.013969Z",
     "shell.execute_reply.started": "2023-01-22T15:51:28.653282Z"
    }
   },
   "outputs": [
    {
     "data": {
      "text/html": [
       "<div>\n",
       "<style scoped>\n",
       "    .dataframe tbody tr th:only-of-type {\n",
       "        vertical-align: middle;\n",
       "    }\n",
       "\n",
       "    .dataframe tbody tr th {\n",
       "        vertical-align: top;\n",
       "    }\n",
       "\n",
       "    .dataframe thead th {\n",
       "        text-align: right;\n",
       "    }\n",
       "</style>\n",
       "<table border=\"1\" class=\"dataframe\">\n",
       "  <thead>\n",
       "    <tr style=\"text-align: right;\">\n",
       "      <th></th>\n",
       "      <th>user_id</th>\n",
       "      <th>df_createtime</th>\n",
       "      <th>dtcreate</th>\n",
       "      <th>dayfrombegin</th>\n",
       "    </tr>\n",
       "  </thead>\n",
       "  <tbody>\n",
       "    <tr>\n",
       "      <th>0</th>\n",
       "      <td>user_0</td>\n",
       "      <td>2021-03-02 12:00:26</td>\n",
       "      <td>2020-08-18 12:02:03</td>\n",
       "      <td>195</td>\n",
       "    </tr>\n",
       "    <tr>\n",
       "      <th>1</th>\n",
       "      <td>user_1</td>\n",
       "      <td>2021-02-28 18:36:53</td>\n",
       "      <td>2017-11-02 00:40:32</td>\n",
       "      <td>1214</td>\n",
       "    </tr>\n",
       "    <tr>\n",
       "      <th>2</th>\n",
       "      <td>user_10</td>\n",
       "      <td>2021-03-13 17:42:21</td>\n",
       "      <td>2020-09-25 18:19:57</td>\n",
       "      <td>168</td>\n",
       "    </tr>\n",
       "    <tr>\n",
       "      <th>3</th>\n",
       "      <td>user_100</td>\n",
       "      <td>2021-02-23 00:33:43</td>\n",
       "      <td>2020-08-03 11:11:53</td>\n",
       "      <td>203</td>\n",
       "    </tr>\n",
       "    <tr>\n",
       "      <th>4</th>\n",
       "      <td>user_1000</td>\n",
       "      <td>2021-01-06 12:24:06</td>\n",
       "      <td>2017-01-12 23:35:18</td>\n",
       "      <td>1454</td>\n",
       "    </tr>\n",
       "  </tbody>\n",
       "</table>\n",
       "</div>"
      ],
      "text/plain": [
       "     user_id       df_createtime            dtcreate  dayfrombegin\n",
       "0     user_0 2021-03-02 12:00:26 2020-08-18 12:02:03           195\n",
       "1     user_1 2021-02-28 18:36:53 2017-11-02 00:40:32          1214\n",
       "2    user_10 2021-03-13 17:42:21 2020-09-25 18:19:57           168\n",
       "3   user_100 2021-02-23 00:33:43 2020-08-03 11:11:53           203\n",
       "4  user_1000 2021-01-06 12:24:06 2017-01-12 23:35:18          1454"
      ]
     },
     "execution_count": 22,
     "metadata": {},
     "output_type": "execute_result"
    }
   ],
   "source": [
    "dtusercreate = pd.DataFrame(users.created_at.map(changetime))\n",
    "dtusercreate.columns = ['dtcreate']\n",
    "dtusercreate['user_id'] = users.user_id\n",
    "dtusercreate.head()\n",
    "\n",
    "daydiff = transac_dt[['user_id','df_createtime']].merge(dtusercreate , on = 'user_id').groupby('user_id')[['df_createtime','dtcreate']].max().reset_index()\n",
    "daydiff['dayfrombegin'] = (daydiff['df_createtime'] - daydiff['dtcreate']).dt.days\n",
    "daydiff.head()"
   ]
  },
  {
   "cell_type": "code",
   "execution_count": 23,
   "metadata": {
    "execution": {
     "iopub.execute_input": "2023-01-22T15:51:29.016284Z",
     "iopub.status.busy": "2023-01-22T15:51:29.015990Z",
     "iopub.status.idle": "2023-01-22T15:51:29.091848Z",
     "shell.execute_reply": "2023-01-22T15:51:29.090331Z",
     "shell.execute_reply.started": "2023-01-22T15:51:29.016257Z"
    }
   },
   "outputs": [
    {
     "data": {
      "text/html": [
       "<div>\n",
       "<style scoped>\n",
       "    .dataframe tbody tr th:only-of-type {\n",
       "        vertical-align: middle;\n",
       "    }\n",
       "\n",
       "    .dataframe tbody tr th {\n",
       "        vertical-align: top;\n",
       "    }\n",
       "\n",
       "    .dataframe thead th {\n",
       "        text-align: right;\n",
       "    }\n",
       "</style>\n",
       "<table border=\"1\" class=\"dataframe\">\n",
       "  <thead>\n",
       "    <tr style=\"text-align: right;\">\n",
       "      <th></th>\n",
       "      <th>user_id</th>\n",
       "      <th>ordercount</th>\n",
       "      <th>dayfrombegin</th>\n",
       "    </tr>\n",
       "  </thead>\n",
       "  <tbody>\n",
       "    <tr>\n",
       "      <th>0</th>\n",
       "      <td>user_0</td>\n",
       "      <td>1</td>\n",
       "      <td>195</td>\n",
       "    </tr>\n",
       "    <tr>\n",
       "      <th>1</th>\n",
       "      <td>user_1</td>\n",
       "      <td>1</td>\n",
       "      <td>1214</td>\n",
       "    </tr>\n",
       "    <tr>\n",
       "      <th>2</th>\n",
       "      <td>user_10</td>\n",
       "      <td>15</td>\n",
       "      <td>168</td>\n",
       "    </tr>\n",
       "    <tr>\n",
       "      <th>3</th>\n",
       "      <td>user_100</td>\n",
       "      <td>7</td>\n",
       "      <td>203</td>\n",
       "    </tr>\n",
       "    <tr>\n",
       "      <th>4</th>\n",
       "      <td>user_1000</td>\n",
       "      <td>1</td>\n",
       "      <td>1454</td>\n",
       "    </tr>\n",
       "  </tbody>\n",
       "</table>\n",
       "</div>"
      ],
      "text/plain": [
       "     user_id  ordercount  dayfrombegin\n",
       "0     user_0           1           195\n",
       "1     user_1           1          1214\n",
       "2    user_10          15           168\n",
       "3   user_100           7           203\n",
       "4  user_1000           1          1454"
      ]
     },
     "execution_count": 23,
     "metadata": {},
     "output_type": "execute_result"
    }
   ],
   "source": [
    "userordercount = pd.DataFrame(transac_dt.groupby('user_id').user_id.count())\n",
    "userordercount.columns = ['ordercount']\n",
    "order_day = userordercount.reset_index().merge(daydiff[['user_id','dayfrombegin']],on = 'user_id')\n",
    "order_day.head()"
   ]
  },
  {
   "cell_type": "code",
   "execution_count": 24,
   "metadata": {
    "execution": {
     "iopub.execute_input": "2023-01-22T15:51:29.094299Z",
     "iopub.status.busy": "2023-01-22T15:51:29.093915Z",
     "iopub.status.idle": "2023-01-22T15:51:29.121442Z",
     "shell.execute_reply": "2023-01-22T15:51:29.119892Z",
     "shell.execute_reply.started": "2023-01-22T15:51:29.094271Z"
    }
   },
   "outputs": [
    {
     "data": {
      "text/html": [
       "<div>\n",
       "<style scoped>\n",
       "    .dataframe tbody tr th:only-of-type {\n",
       "        vertical-align: middle;\n",
       "    }\n",
       "\n",
       "    .dataframe tbody tr th {\n",
       "        vertical-align: top;\n",
       "    }\n",
       "\n",
       "    .dataframe thead th {\n",
       "        text-align: right;\n",
       "    }\n",
       "</style>\n",
       "<table border=\"1\" class=\"dataframe\">\n",
       "  <thead>\n",
       "    <tr style=\"text-align: right;\">\n",
       "      <th></th>\n",
       "      <th>count</th>\n",
       "      <th>mean</th>\n",
       "      <th>std</th>\n",
       "      <th>min</th>\n",
       "      <th>25%</th>\n",
       "      <th>50%</th>\n",
       "      <th>75%</th>\n",
       "      <th>max</th>\n",
       "    </tr>\n",
       "  </thead>\n",
       "  <tbody>\n",
       "    <tr>\n",
       "      <th>ordercount</th>\n",
       "      <td>22757.0</td>\n",
       "      <td>6.112185</td>\n",
       "      <td>10.370252</td>\n",
       "      <td>1.0</td>\n",
       "      <td>1.0</td>\n",
       "      <td>2.0</td>\n",
       "      <td>6.0</td>\n",
       "      <td>342.0</td>\n",
       "    </tr>\n",
       "    <tr>\n",
       "      <th>dayfrombegin</th>\n",
       "      <td>22757.0</td>\n",
       "      <td>340.311640</td>\n",
       "      <td>436.048293</td>\n",
       "      <td>0.0</td>\n",
       "      <td>71.0</td>\n",
       "      <td>168.0</td>\n",
       "      <td>355.0</td>\n",
       "      <td>1798.0</td>\n",
       "    </tr>\n",
       "  </tbody>\n",
       "</table>\n",
       "</div>"
      ],
      "text/plain": [
       "                count        mean         std  min   25%    50%    75%     max\n",
       "ordercount    22757.0    6.112185   10.370252  1.0   1.0    2.0    6.0   342.0\n",
       "dayfrombegin  22757.0  340.311640  436.048293  0.0  71.0  168.0  355.0  1798.0"
      ]
     },
     "execution_count": 24,
     "metadata": {},
     "output_type": "execute_result"
    }
   ],
   "source": [
    "order_day.describe().T"
   ]
  },
  {
   "cell_type": "code",
   "execution_count": 25,
   "metadata": {
    "execution": {
     "iopub.execute_input": "2023-01-22T15:51:29.123887Z",
     "iopub.status.busy": "2023-01-22T15:51:29.123449Z",
     "iopub.status.idle": "2023-01-22T15:51:29.365506Z",
     "shell.execute_reply": "2023-01-22T15:51:29.364764Z",
     "shell.execute_reply.started": "2023-01-22T15:51:29.123859Z"
    }
   },
   "outputs": [
    {
     "data": {
      "text/plain": [
       "<AxesSubplot:xlabel='dayfrombegin', ylabel='Density'>"
      ]
     },
     "execution_count": 25,
     "metadata": {},
     "output_type": "execute_result"
    },
    {
     "data": {
      "image/png": "[encoded data removed]",
      "text/plain": [
       "<Figure size 640x480 with 1 Axes>"
      ]
     },
     "metadata": {},
     "output_type": "display_data"
    }
   ],
   "source": [
    "sns.kdeplot(order_day.dayfrombegin)"
   ]
  },
  {
   "cell_type": "code",
   "execution_count": 26,
   "metadata": {
    "execution": {
     "iopub.execute_input": "2023-01-22T15:51:29.368747Z",
     "iopub.status.busy": "2023-01-22T15:51:29.368249Z",
     "iopub.status.idle": "2023-01-22T15:51:29.511346Z",
     "shell.execute_reply": "2023-01-22T15:51:29.510522Z",
     "shell.execute_reply.started": "2023-01-22T15:51:29.368690Z"
    }
   },
   "outputs": [
    {
     "data": {
      "text/plain": [
       "<AxesSubplot:>"
      ]
     },
     "execution_count": 26,
     "metadata": {},
     "output_type": "execute_result"
    },
    {
     "data": {
      "image/png": "[encoded data removed]",
      "text/plain": [
       "<Figure size 640x480 with 1 Axes>"
      ]
     },
     "metadata": {},
     "output_type": "display_data"
    }
   ],
   "source": [
    "sns.boxplot(data = order_day.ordercount)"
   ]
  },
  {
   "cell_type": "code",
   "execution_count": 27,
   "metadata": {
    "execution": {
     "iopub.execute_input": "2023-01-22T15:51:29.513543Z",
     "iopub.status.busy": "2023-01-22T15:51:29.512567Z",
     "iopub.status.idle": "2023-01-22T15:51:55.911448Z",
     "shell.execute_reply": "2023-01-22T15:51:55.909784Z",
     "shell.execute_reply.started": "2023-01-22T15:51:29.513506Z"
    }
   },
   "outputs": [
    {
     "data": {
      "text/plain": [
       "<AxesSubplot:xlabel='dayfrombegin', ylabel='ordercount'>"
      ]
     },
     "execution_count": 27,
     "metadata": {},
     "output_type": "execute_result"
    },
    {
     "data": {
      "image/png": "[encoded data removed]",
      "text/plain": [
       "<Figure size 640x480 with 1 Axes>"
      ]
     },
     "metadata": {},
     "output_type": "display_data"
    }
   ],
   "source": [
    "sns.lineplot(data = order_day , x = 'dayfrombegin' , y = 'ordercount')"
   ]
  },
  {
   "cell_type": "markdown",
   "metadata": {},
   "source": [
    "ดูเหมือนว่าการที่ user  อยู่กับเรามานาน ไม่ได้ทำให้มีการสั่งที่มากขึ้น \n",
    "ดังนั้นเราลองมาดูว่า คนที่พึ่งสมัครแอพ ไม่เกิน 30 วัน จะมีแนวโน้มในการสั่งมากขึ้นหรือไม่"
   ]
  },
  {
   "cell_type": "code",
   "execution_count": 28,
   "metadata": {
    "execution": {
     "iopub.execute_input": "2023-01-22T15:51:55.920069Z",
     "iopub.status.busy": "2023-01-22T15:51:55.919521Z",
     "iopub.status.idle": "2023-01-22T15:51:56.406365Z",
     "shell.execute_reply": "2023-01-22T15:51:56.405398Z",
     "shell.execute_reply.started": "2023-01-22T15:51:55.920015Z"
    }
   },
   "outputs": [
    {
     "data": {
      "text/plain": [
       "<AxesSubplot:xlabel='dayfrombegin', ylabel='ordercount'>"
      ]
     },
     "execution_count": 28,
     "metadata": {},
     "output_type": "execute_result"
    },
    {
     "data": {
      "image/png": "[encoded data removed]",
      "text/plain": [
       "<Figure size 640x480 with 1 Axes>"
      ]
     },
     "metadata": {},
     "output_type": "display_data"
    }
   ],
   "source": [
    "sns.regplot(data = order_day[order_day.dayfrombegin <=30] , x = 'dayfrombegin' , y = 'ordercount')"
   ]
  },
  {
   "cell_type": "markdown",
   "metadata": {},
   "source": [
    "จากกราฟ ผมคิดว่าผู้ใช้ที่ลงทะเบียนกับแอปพลิเคชันในเดือนนี้มีแนวโน้มที่จะสั่งซื้อมากขึ้น                           \n",
    "**ข้อสรุป** : เราอาจแบ่ง segment  ของ user ด้วยเวลาที่ลงทะเบียนได้\n"
   ]
  },
  {
   "cell_type": "markdown",
   "metadata": {},
   "source": [
    "# EDA3 : ORDER PER WEEK\n",
    "ความถี่ในการสั่งแต่ละสัปดาห์ มีความเกี่ยวข้อง หรือเป็นเทรนซ้ำๆหรือเปล่า"
   ]
  },
  {
   "cell_type": "code",
   "execution_count": 29,
   "metadata": {
    "execution": {
     "iopub.execute_input": "2023-01-22T15:51:56.407876Z",
     "iopub.status.busy": "2023-01-22T15:51:56.407581Z",
     "iopub.status.idle": "2023-01-22T15:51:56.622635Z",
     "shell.execute_reply": "2023-01-22T15:51:56.620676Z",
     "shell.execute_reply.started": "2023-01-22T15:51:56.407850Z"
    }
   },
   "outputs": [
    {
     "data": {
      "text/plain": [
       "<AxesSubplot:xlabel='count', ylabel='weekday'>"
      ]
     },
     "execution_count": 29,
     "metadata": {},
     "output_type": "execute_result"
    },
    {
     "data": {
      "image/png": "[encoded data removed]",
      "text/plain": [
       "<Figure size 640x480 with 1 Axes>"
      ]
     },
     "metadata": {},
     "output_type": "display_data"
    }
   ],
   "source": [
    "barweekday =  pd.DataFrame(transac_dt.groupby('weekday').weekday.size())\n",
    "barweekday.rename(columns = {'weekday':'count'}, inplace = True)\n",
    "barweekday = barweekday.reset_index()\n",
    "sns.barplot(data = barweekday , y = 'weekday' , x = 'count')"
   ]
  },
  {
   "cell_type": "markdown",
   "metadata": {},
   "source": [
    "ดูเหมือนว่าจำนวนการสั่งในแต่ละสัปดาห์ ดูจะพอๆกัน"
   ]
  },
  {
   "cell_type": "markdown",
   "metadata": {},
   "source": [
    "งั้นถ้าเราสุ่มหยิบมาสัก 1 สัปดาห์จะเป็นอย่างไร?"
   ]
  },
  {
   "cell_type": "code",
   "execution_count": 30,
   "metadata": {
    "execution": {
     "iopub.execute_input": "2023-01-22T15:51:56.625022Z",
     "iopub.status.busy": "2023-01-22T15:51:56.624634Z",
     "iopub.status.idle": "2023-01-22T15:51:56.819611Z",
     "shell.execute_reply": "2023-01-22T15:51:56.818333Z",
     "shell.execute_reply.started": "2023-01-22T15:51:56.624994Z"
    }
   },
   "outputs": [
    {
     "data": {
      "text/plain": [
       "<AxesSubplot:xlabel='count', ylabel='weekday'>"
      ]
     },
     "execution_count": 30,
     "metadata": {},
     "output_type": "execute_result"
    },
    {
     "data": {
      "image/png": "[encoded data removed]",
      "text/plain": [
       "<Figure size 640x480 with 1 Axes>"
      ]
     },
     "metadata": {},
     "output_type": "display_data"
    }
   ],
   "source": [
    "barweekday =  pd.DataFrame(transac_dt[(transac_dt.dt > 20210301)&(transac_dt.dt <= 20210307)].groupby('weekday').weekday.size())\n",
    "barweekday.rename(columns = {'weekday':'count'}, inplace = True)\n",
    "barweekday = barweekday.reset_index()\n",
    "sns.barplot(data = barweekday , y = 'weekday' , x = 'count')"
   ]
  },
  {
   "cell_type": "markdown",
   "metadata": {},
   "source": [
    "ยังคงไม่แตกต่างกันมาก\n",
    "**ข้อสรุป** : ตัวแปรวันในแต่ละสัปดาห์อาจไม่มีผลในการทำนายการสั่งเท่าที่ควร"
   ]
  },
  {
   "cell_type": "markdown",
   "metadata": {},
   "source": [
    "# EDA4 CANCELED"
   ]
  },
  {
   "cell_type": "code",
   "execution_count": 31,
   "metadata": {
    "execution": {
     "iopub.execute_input": "2023-01-22T15:51:56.822554Z",
     "iopub.status.busy": "2023-01-22T15:51:56.822001Z",
     "iopub.status.idle": "2023-01-22T15:51:56.853364Z",
     "shell.execute_reply": "2023-01-22T15:51:56.851856Z",
     "shell.execute_reply.started": "2023-01-22T15:51:56.822508Z"
    }
   },
   "outputs": [
    {
     "data": {
      "text/html": [
       "<div>\n",
       "<style scoped>\n",
       "    .dataframe tbody tr th:only-of-type {\n",
       "        vertical-align: middle;\n",
       "    }\n",
       "\n",
       "    .dataframe tbody tr th {\n",
       "        vertical-align: top;\n",
       "    }\n",
       "\n",
       "    .dataframe thead th {\n",
       "        text-align: right;\n",
       "    }\n",
       "</style>\n",
       "<table border=\"1\" class=\"dataframe\">\n",
       "  <thead>\n",
       "    <tr style=\"text-align: right;\">\n",
       "      <th></th>\n",
       "      <th>count</th>\n",
       "      <th>mean</th>\n",
       "      <th>std</th>\n",
       "      <th>min</th>\n",
       "      <th>25%</th>\n",
       "      <th>50%</th>\n",
       "      <th>75%</th>\n",
       "      <th>max</th>\n",
       "    </tr>\n",
       "  </thead>\n",
       "  <tbody>\n",
       "    <tr>\n",
       "      <th>final_food_price</th>\n",
       "      <td>139095.0</td>\n",
       "      <td>108.326757</td>\n",
       "      <td>89.927964</td>\n",
       "      <td>0.0</td>\n",
       "      <td>60.0</td>\n",
       "      <td>80.0</td>\n",
       "      <td>125.0</td>\n",
       "      <td>3580.0</td>\n",
       "    </tr>\n",
       "  </tbody>\n",
       "</table>\n",
       "</div>"
      ],
      "text/plain": [
       "                     count        mean        std  min   25%   50%    75%  \\\n",
       "final_food_price  139095.0  108.326757  89.927964  0.0  60.0  80.0  125.0   \n",
       "\n",
       "                     max  \n",
       "final_food_price  3580.0  "
      ]
     },
     "execution_count": 31,
     "metadata": {},
     "output_type": "execute_result"
    }
   ],
   "source": [
    "pd.DataFrame(transac_dt.final_food_price.describe()).T"
   ]
  },
  {
   "cell_type": "code",
   "execution_count": 32,
   "metadata": {
    "execution": {
     "iopub.execute_input": "2023-01-22T15:51:56.854935Z",
     "iopub.status.busy": "2023-01-22T15:51:56.854537Z",
     "iopub.status.idle": "2023-01-22T15:51:56.881712Z",
     "shell.execute_reply": "2023-01-22T15:51:56.880164Z",
     "shell.execute_reply.started": "2023-01-22T15:51:56.854899Z"
    }
   },
   "outputs": [
    {
     "data": {
      "text/plain": [
       "14129"
      ]
     },
     "execution_count": 32,
     "metadata": {},
     "output_type": "execute_result"
    }
   ],
   "source": [
    "transac_dt[(transac_dt.final_food_price >0) & (transac_dt.status == 'CANCELED')].shape[0]"
   ]
  },
  {
   "cell_type": "markdown",
   "metadata": {},
   "source": [
    "มี transaction จำนวนมากที่ถูกยกเลิก แต่ยังโดนเก็บค่าอาหาร สิ่งนี้ส่งผลต่อ user experience หรือไม่ ?\n"
   ]
  },
  {
   "cell_type": "code",
   "execution_count": 33,
   "metadata": {
    "execution": {
     "iopub.execute_input": "2023-01-22T15:51:56.883977Z",
     "iopub.status.busy": "2023-01-22T15:51:56.883631Z",
     "iopub.status.idle": "2023-01-22T15:51:57.118254Z",
     "shell.execute_reply": "2023-01-22T15:51:57.116892Z",
     "shell.execute_reply.started": "2023-01-22T15:51:56.883950Z"
    }
   },
   "outputs": [
    {
     "data": {
      "text/plain": [
       "<AxesSubplot:xlabel='count', ylabel='status'>"
      ]
     },
     "execution_count": 33,
     "metadata": {},
     "output_type": "execute_result"
    },
    {
     "data": {
      "image/png": "[encoded data removed]",
      "text/plain": [
       "<Figure size 640x480 with 1 Axes>"
      ]
     },
     "metadata": {},
     "output_type": "display_data"
    }
   ],
   "source": [
    "sns.countplot(data = transac_dt , y = 'status')"
   ]
  },
  {
   "cell_type": "code",
   "execution_count": 34,
   "metadata": {
    "execution": {
     "iopub.execute_input": "2023-01-22T15:51:57.120015Z",
     "iopub.status.busy": "2023-01-22T15:51:57.119669Z",
     "iopub.status.idle": "2023-01-22T15:51:57.201760Z",
     "shell.execute_reply": "2023-01-22T15:51:57.200199Z",
     "shell.execute_reply.started": "2023-01-22T15:51:57.119986Z"
    }
   },
   "outputs": [
    {
     "data": {
      "text/plain": [
       "count    7284.000000\n",
       "mean        2.064113\n",
       "std         2.434338\n",
       "min         1.000000\n",
       "25%         1.000000\n",
       "50%         1.000000\n",
       "75%         2.000000\n",
       "max       115.000000\n",
       "Name: count, dtype: float64"
      ]
     },
     "execution_count": 34,
     "metadata": {},
     "output_type": "execute_result"
    }
   ],
   "source": [
    "st  = pd.DataFrame(transac_dt.groupby(['user_id','status']).transaction_id.count()).reset_index().rename(columns = {'transaction_id':'count'})\n",
    "cancelcount = st[st.status == 'CANCELED']\n",
    "cancelcount.set_index('user_id')['count'].describe()"
   ]
  },
  {
   "cell_type": "markdown",
   "metadata": {},
   "source": [
    "115 cancel?"
   ]
  },
  {
   "cell_type": "code",
   "execution_count": 35,
   "metadata": {
    "execution": {
     "iopub.execute_input": "2023-01-22T15:51:57.204145Z",
     "iopub.status.busy": "2023-01-22T15:51:57.203692Z",
     "iopub.status.idle": "2023-01-22T15:51:57.215725Z",
     "shell.execute_reply": "2023-01-22T15:51:57.214449Z",
     "shell.execute_reply.started": "2023-01-22T15:51:57.204108Z"
    }
   },
   "outputs": [
    {
     "data": {
      "text/plain": [
       "1711    user_11182\n",
       "Name: user_id, dtype: object"
      ]
     },
     "execution_count": 35,
     "metadata": {},
     "output_type": "execute_result"
    }
   ],
   "source": [
    "cancelcount[cancelcount['count']==115].user_id"
   ]
  },
  {
   "cell_type": "code",
   "execution_count": 36,
   "metadata": {
    "execution": {
     "iopub.execute_input": "2023-01-22T15:51:57.217909Z",
     "iopub.status.busy": "2023-01-22T15:51:57.217611Z",
     "iopub.status.idle": "2023-01-22T15:51:57.241456Z",
     "shell.execute_reply": "2023-01-22T15:51:57.240294Z",
     "shell.execute_reply.started": "2023-01-22T15:51:57.217883Z"
    }
   },
   "outputs": [
    {
     "data": {
      "text/plain": [
       "restaurant_496     64\n",
       "restaurant_666     19\n",
       "restaurant_2363    15\n",
       "Name: restaurant_id, dtype: int64"
      ]
     },
     "execution_count": 36,
     "metadata": {},
     "output_type": "execute_result"
    }
   ],
   "source": [
    "transac_dt[transac_dt.user_id == 'user_11182'].restaurant_id.value_counts()[:3]"
   ]
  },
  {
   "cell_type": "markdown",
   "metadata": {},
   "source": [
    "ถ้าไม่ใช่ปัญหาจาก user คงจะเป็นปัญหาจากร้านอาหาร เรามาลองดูจำนวนการยกเลิกต่อร้านอาหาร \n"
   ]
  },
  {
   "cell_type": "code",
   "execution_count": 37,
   "metadata": {
    "execution": {
     "iopub.execute_input": "2023-01-22T15:51:57.243242Z",
     "iopub.status.busy": "2023-01-22T15:51:57.242931Z",
     "iopub.status.idle": "2023-01-22T15:51:57.279820Z",
     "shell.execute_reply": "2023-01-22T15:51:57.278159Z",
     "shell.execute_reply.started": "2023-01-22T15:51:57.243216Z"
    }
   },
   "outputs": [
    {
     "data": {
      "text/plain": [
       "restaurant_id\n",
       "restaurant_1486    143\n",
       "restaurant_2554     91\n",
       "restaurant_2833     84\n",
       "restaurant_2729     73\n",
       "restaurant_3259     70\n",
       "restaurant_2778     66\n",
       "restaurant_605      64\n",
       "restaurant_496      64\n",
       "restaurant_2040     57\n",
       "restaurant_428      56\n",
       "dtype: int64"
      ]
     },
     "execution_count": 37,
     "metadata": {},
     "output_type": "execute_result"
    }
   ],
   "source": [
    "transac_dt[transac_dt.status == 'CANCELED'].groupby('restaurant_id').size().sort_values(ascending = False)[:10]"
   ]
  },
  {
   "cell_type": "markdown",
   "metadata": {},
   "source": [
    "แต่ถ้าดูจำนวนการยกเลิกจากร้านอาหารทั้งหมด restaurant_496 ถูกยกเลิกโดยผู้ใช้คนเดียว ผมคิดว่าน่าจะเป็นปัญหาที่ตัวผู้ใช้ ดังนั้นเราจะผ่านปัญหานี้ไปครับ"
   ]
  },
  {
   "cell_type": "markdown",
   "metadata": {},
   "source": [
    "ต่อมา เราจะมาวิเคราะห์จำนวนการยกเลิกต่อใช้"
   ]
  },
  {
   "cell_type": "code",
   "execution_count": 38,
   "metadata": {
    "execution": {
     "iopub.execute_input": "2023-01-22T15:51:57.282997Z",
     "iopub.status.busy": "2023-01-22T15:51:57.281843Z",
     "iopub.status.idle": "2023-01-22T15:51:57.296306Z",
     "shell.execute_reply": "2023-01-22T15:51:57.295425Z",
     "shell.execute_reply.started": "2023-01-22T15:51:57.282967Z"
    }
   },
   "outputs": [
    {
     "data": {
      "text/html": [
       "<div>\n",
       "<style scoped>\n",
       "    .dataframe tbody tr th:only-of-type {\n",
       "        vertical-align: middle;\n",
       "    }\n",
       "\n",
       "    .dataframe tbody tr th {\n",
       "        vertical-align: top;\n",
       "    }\n",
       "\n",
       "    .dataframe thead th {\n",
       "        text-align: right;\n",
       "    }\n",
       "</style>\n",
       "<table border=\"1\" class=\"dataframe\">\n",
       "  <thead>\n",
       "    <tr style=\"text-align: right;\">\n",
       "      <th></th>\n",
       "      <th>user_id</th>\n",
       "      <th>status</th>\n",
       "      <th>count</th>\n",
       "    </tr>\n",
       "  </thead>\n",
       "  <tbody>\n",
       "    <tr>\n",
       "      <th>40</th>\n",
       "      <td>user_10024</td>\n",
       "      <td>CANCELED</td>\n",
       "      <td>6</td>\n",
       "    </tr>\n",
       "    <tr>\n",
       "      <th>145</th>\n",
       "      <td>user_10096</td>\n",
       "      <td>CANCELED</td>\n",
       "      <td>13</td>\n",
       "    </tr>\n",
       "    <tr>\n",
       "      <th>197</th>\n",
       "      <td>user_10133</td>\n",
       "      <td>CANCELED</td>\n",
       "      <td>14</td>\n",
       "    </tr>\n",
       "    <tr>\n",
       "      <th>279</th>\n",
       "      <td>user_10191</td>\n",
       "      <td>CANCELED</td>\n",
       "      <td>7</td>\n",
       "    </tr>\n",
       "    <tr>\n",
       "      <th>408</th>\n",
       "      <td>user_10279</td>\n",
       "      <td>CANCELED</td>\n",
       "      <td>11</td>\n",
       "    </tr>\n",
       "    <tr>\n",
       "      <th>...</th>\n",
       "      <td>...</td>\n",
       "      <td>...</td>\n",
       "      <td>...</td>\n",
       "    </tr>\n",
       "    <tr>\n",
       "      <th>29141</th>\n",
       "      <td>user_9784</td>\n",
       "      <td>CANCELED</td>\n",
       "      <td>7</td>\n",
       "    </tr>\n",
       "    <tr>\n",
       "      <th>29213</th>\n",
       "      <td>user_9834</td>\n",
       "      <td>CANCELED</td>\n",
       "      <td>9</td>\n",
       "    </tr>\n",
       "    <tr>\n",
       "      <th>29278</th>\n",
       "      <td>user_9881</td>\n",
       "      <td>CANCELED</td>\n",
       "      <td>8</td>\n",
       "    </tr>\n",
       "    <tr>\n",
       "      <th>29317</th>\n",
       "      <td>user_9903</td>\n",
       "      <td>CANCELED</td>\n",
       "      <td>6</td>\n",
       "    </tr>\n",
       "    <tr>\n",
       "      <th>29349</th>\n",
       "      <td>user_9925</td>\n",
       "      <td>CANCELED</td>\n",
       "      <td>9</td>\n",
       "    </tr>\n",
       "  </tbody>\n",
       "</table>\n",
       "<p>369 rows × 3 columns</p>\n",
       "</div>"
      ],
      "text/plain": [
       "          user_id    status  count\n",
       "40     user_10024  CANCELED      6\n",
       "145    user_10096  CANCELED     13\n",
       "197    user_10133  CANCELED     14\n",
       "279    user_10191  CANCELED      7\n",
       "408    user_10279  CANCELED     11\n",
       "...           ...       ...    ...\n",
       "29141   user_9784  CANCELED      7\n",
       "29213   user_9834  CANCELED      9\n",
       "29278   user_9881  CANCELED      8\n",
       "29317   user_9903  CANCELED      6\n",
       "29349   user_9925  CANCELED      9\n",
       "\n",
       "[369 rows x 3 columns]"
      ]
     },
     "execution_count": 38,
     "metadata": {},
     "output_type": "execute_result"
    }
   ],
   "source": [
    "cancelcount[cancelcount['count'] >5]"
   ]
  },
  {
   "cell_type": "markdown",
   "metadata": {},
   "source": [
    "มาดูกันว่าลูกค้าที่ยกเลิกมากกว่า 5 ครั้งยัง ยังเป็น active users ไหม"
   ]
  },
  {
   "cell_type": "code",
   "execution_count": 39,
   "metadata": {
    "execution": {
     "iopub.execute_input": "2023-01-22T15:51:57.297649Z",
     "iopub.status.busy": "2023-01-22T15:51:57.297335Z",
     "iopub.status.idle": "2023-01-22T15:51:57.311035Z",
     "shell.execute_reply": "2023-01-22T15:51:57.309309Z",
     "shell.execute_reply.started": "2023-01-22T15:51:57.297616Z"
    }
   },
   "outputs": [],
   "source": [
    "ng = list(cancelcount[cancelcount['count'] >5].user_id)"
   ]
  },
  {
   "cell_type": "markdown",
   "metadata": {},
   "source": [
    "*let's assume the customer who order the food in 14 days still active users*"
   ]
  },
  {
   "cell_type": "code",
   "execution_count": 40,
   "metadata": {
    "execution": {
     "iopub.execute_input": "2023-01-22T15:51:57.314060Z",
     "iopub.status.busy": "2023-01-22T15:51:57.313500Z",
     "iopub.status.idle": "2023-01-22T15:51:57.379353Z",
     "shell.execute_reply": "2023-01-22T15:51:57.377278Z",
     "shell.execute_reply.started": "2023-01-22T15:51:57.314009Z"
    }
   },
   "outputs": [
    {
     "data": {
      "text/plain": [
       "0.17615176151761516"
      ]
     },
     "execution_count": 40,
     "metadata": {},
     "output_type": "execute_result"
    }
   ],
   "source": [
    "lastdayofcancel = transac_dt[transac_dt.user_id.isin(ng)].groupby('user_id').df_createtime.max().max() - transac_dt[transac_dt.user_id.isin(ng)].groupby('user_id').df_createtime.max()\n",
    "s = lastdayofcancel.dt.days \n",
    "s[s>14].shape[0] / s.shape[0]"
   ]
  },
  {
   "cell_type": "markdown",
   "metadata": {},
   "source": [
    "หมายความว่า 17 % ของผู้ใช้ที่มีสถานะ == CANCELED มากกว่า 5 ครั้งไม่ใช่ผู้ใช้ที่ใช้งานอยู่\n",
    "\n",
    "**ข้อสรุป** : เราควรเก็บปัญหานี้ไว้เพื่อพัฒนาต่อเพราะ เห็นได้ว่า จำนวนครั้งที่ cancel มาก หมายถึง user experience ที่ลดลง แต่เนื่องจาก ลูกค้าที่ยกเลิกมากกว่า 5 ครั้ง มีจำนวนน้อยเมื่อเทียบกับลูกค้าทั้งหมด จึงไม่ขอนำมาพิจารณาในการทำ model"
   ]
  },
  {
   "cell_type": "markdown",
   "metadata": {},
   "source": [
    "# **DATA PREPARATION**"
   ]
  },
  {
   "cell_type": "markdown",
   "metadata": {},
   "source": [
    "เราจะแบ่งข้อมูลออกเป็น 2 ส่วน \n",
    "\n",
    "1.ข้อมูลทุกอย่างถึงวันที่ 22 เดือน 3\n",
    "\n",
    "2.ข้อมูลวันที่ 23 24 25 เดือน 3 "
   ]
  },
  {
   "cell_type": "code",
   "execution_count": 41,
   "metadata": {
    "execution": {
     "iopub.execute_input": "2023-01-22T15:51:57.382497Z",
     "iopub.status.busy": "2023-01-22T15:51:57.381454Z",
     "iopub.status.idle": "2023-01-22T15:51:57.392353Z",
     "shell.execute_reply": "2023-01-22T15:51:57.391059Z",
     "shell.execute_reply.started": "2023-01-22T15:51:57.382454Z"
    }
   },
   "outputs": [],
   "source": [
    "def cutoffdata(df,start,day):\n",
    "    invoice = df[df.dt <= start]\n",
    "    invoidnext3 = df[(df.dt >=  start+1) &(df.dt <= start+3)]\n",
    "    return (invoice , invoidnext3)\n",
    "'''\n",
    "nextpurchasedf คำนวนว่า หากเรา cutoff วันที่ 22 จะใช้เวลากี่วัน ถึงจะซื้อภายใน 23 24 25 \n",
    "แน่นอนว่า จะมีบางคน ที่ไม่ได้ซื้อและมี null เกิดขึ้น\n",
    "'''\n",
    "def nextpurchasedf(df,start,day):\n",
    "    inv,inv3 = cutoffdata(df,start,day)\n",
    "    lastdaypurchase = inv.groupby('user_id').df_createtime.max()\n",
    "    firstpurchaseofnext3 = inv3.groupby('user_id').df_createtime.min()\n",
    "    nextpurchase = pd.DataFrame((firstpurchaseofnext3 - lastdaypurchase).dt.days)\n",
    "    nextpurchase = nextpurchase.reset_index().rename(columns = {'df_createtime':'nextpurchaseday'}).sort_values(by = 'nextpurchaseday')\n",
    "    nextpurchase.fillna(99999,inplace = True)\n",
    "    ## จัดการ null \n",
    "    return nextpurchase"
   ]
  },
  {
   "cell_type": "code",
   "execution_count": 42,
   "metadata": {
    "execution": {
     "iopub.execute_input": "2023-01-22T15:51:57.393965Z",
     "iopub.status.busy": "2023-01-22T15:51:57.393629Z",
     "iopub.status.idle": "2023-01-22T15:51:57.529472Z",
     "shell.execute_reply": "2023-01-22T15:51:57.528432Z",
     "shell.execute_reply.started": "2023-01-22T15:51:57.393933Z"
    }
   },
   "outputs": [
    {
     "data": {
      "text/html": [
       "<div>\n",
       "<style scoped>\n",
       "    .dataframe tbody tr th:only-of-type {\n",
       "        vertical-align: middle;\n",
       "    }\n",
       "\n",
       "    .dataframe tbody tr th {\n",
       "        vertical-align: top;\n",
       "    }\n",
       "\n",
       "    .dataframe thead th {\n",
       "        text-align: right;\n",
       "    }\n",
       "</style>\n",
       "<table border=\"1\" class=\"dataframe\">\n",
       "  <thead>\n",
       "    <tr style=\"text-align: right;\">\n",
       "      <th></th>\n",
       "      <th>transaction_id</th>\n",
       "      <th>created_at</th>\n",
       "      <th>dt</th>\n",
       "      <th>user_id</th>\n",
       "      <th>restaurant_id</th>\n",
       "      <th>status</th>\n",
       "      <th>distance</th>\n",
       "      <th>final_food_price</th>\n",
       "      <th>discount_amount</th>\n",
       "      <th>completed_at</th>\n",
       "      <th>delivery_fee</th>\n",
       "      <th>df_createtime</th>\n",
       "      <th>weekday</th>\n",
       "    </tr>\n",
       "  </thead>\n",
       "  <tbody>\n",
       "    <tr>\n",
       "      <th>222</th>\n",
       "      <td>transaction_1105</td>\n",
       "      <td>2021-03-22 09:43:39.548</td>\n",
       "      <td>20210322</td>\n",
       "      <td>user_7322</td>\n",
       "      <td>restaurant_1385</td>\n",
       "      <td>COMPLETED</td>\n",
       "      <td>831.0</td>\n",
       "      <td>50.0</td>\n",
       "      <td>NaN</td>\n",
       "      <td>2021-03-22 09:52:36.719</td>\n",
       "      <td>0.0</td>\n",
       "      <td>2021-03-22 09:43:39</td>\n",
       "      <td>Monday</td>\n",
       "    </tr>\n",
       "    <tr>\n",
       "      <th>223</th>\n",
       "      <td>transaction_1106</td>\n",
       "      <td>2021-03-22 14:52:35.619</td>\n",
       "      <td>20210322</td>\n",
       "      <td>user_16010</td>\n",
       "      <td>restaurant_461</td>\n",
       "      <td>COMPLETED</td>\n",
       "      <td>6201.0</td>\n",
       "      <td>100.0</td>\n",
       "      <td>NaN</td>\n",
       "      <td>2021-03-22 15:10:53.997</td>\n",
       "      <td>0.0</td>\n",
       "      <td>2021-03-22 14:52:35</td>\n",
       "      <td>Monday</td>\n",
       "    </tr>\n",
       "    <tr>\n",
       "      <th>224</th>\n",
       "      <td>transaction_1107</td>\n",
       "      <td>2021-03-22 11:46:26.284</td>\n",
       "      <td>20210322</td>\n",
       "      <td>user_1819</td>\n",
       "      <td>restaurant_486</td>\n",
       "      <td>COMPLETED</td>\n",
       "      <td>5034.0</td>\n",
       "      <td>65.0</td>\n",
       "      <td>NaN</td>\n",
       "      <td>2021-03-22 12:06:14.775</td>\n",
       "      <td>0.0</td>\n",
       "      <td>2021-03-22 11:46:26</td>\n",
       "      <td>Monday</td>\n",
       "    </tr>\n",
       "  </tbody>\n",
       "</table>\n",
       "</div>"
      ],
      "text/plain": [
       "       transaction_id               created_at        dt     user_id  \\\n",
       "222  transaction_1105  2021-03-22 09:43:39.548  20210322   user_7322   \n",
       "223  transaction_1106  2021-03-22 14:52:35.619  20210322  user_16010   \n",
       "224  transaction_1107  2021-03-22 11:46:26.284  20210322   user_1819   \n",
       "\n",
       "       restaurant_id     status  distance  final_food_price  discount_amount  \\\n",
       "222  restaurant_1385  COMPLETED     831.0              50.0              NaN   \n",
       "223   restaurant_461  COMPLETED    6201.0             100.0              NaN   \n",
       "224   restaurant_486  COMPLETED    5034.0              65.0              NaN   \n",
       "\n",
       "                completed_at  delivery_fee       df_createtime weekday  \n",
       "222  2021-03-22 09:52:36.719           0.0 2021-03-22 09:43:39  Monday  \n",
       "223  2021-03-22 15:10:53.997           0.0 2021-03-22 14:52:35  Monday  \n",
       "224  2021-03-22 12:06:14.775           0.0 2021-03-22 11:46:26  Monday  "
      ]
     },
     "metadata": {},
     "output_type": "display_data"
    }
   ],
   "source": [
    "fooinvoice = cutoffdata(transac_dt,20210322,3)[0]\n",
    "nextpurchase = nextpurchasedf(transac_dt,20210322,3)\n",
    "display(fooinvoice.head(3))"
   ]
  },
  {
   "cell_type": "markdown",
   "metadata": {},
   "source": [
    "จากการeda ทำให้เราเลือกเพียงบางตัวมาใช้งานต่อ"
   ]
  },
  {
   "cell_type": "code",
   "execution_count": 43,
   "metadata": {
    "execution": {
     "iopub.execute_input": "2023-01-22T15:51:57.531822Z",
     "iopub.status.busy": "2023-01-22T15:51:57.530777Z",
     "iopub.status.idle": "2023-01-22T15:51:57.546051Z",
     "shell.execute_reply": "2023-01-22T15:51:57.544624Z",
     "shell.execute_reply.started": "2023-01-22T15:51:57.531782Z"
    }
   },
   "outputs": [],
   "source": [
    "invoice = fooinvoice.drop(['created_at','discount_amount','delivery_fee','weekday','completed_at'],axis = 1)"
   ]
  },
  {
   "cell_type": "code",
   "execution_count": 44,
   "metadata": {
    "execution": {
     "iopub.execute_input": "2023-01-22T15:51:57.548329Z",
     "iopub.status.busy": "2023-01-22T15:51:57.547861Z",
     "iopub.status.idle": "2023-01-22T15:51:57.568797Z",
     "shell.execute_reply": "2023-01-22T15:51:57.566669Z",
     "shell.execute_reply.started": "2023-01-22T15:51:57.548293Z"
    }
   },
   "outputs": [
    {
     "data": {
      "text/html": [
       "<div>\n",
       "<style scoped>\n",
       "    .dataframe tbody tr th:only-of-type {\n",
       "        vertical-align: middle;\n",
       "    }\n",
       "\n",
       "    .dataframe tbody tr th {\n",
       "        vertical-align: top;\n",
       "    }\n",
       "\n",
       "    .dataframe thead th {\n",
       "        text-align: right;\n",
       "    }\n",
       "</style>\n",
       "<table border=\"1\" class=\"dataframe\">\n",
       "  <thead>\n",
       "    <tr style=\"text-align: right;\">\n",
       "      <th></th>\n",
       "      <th>transaction_id</th>\n",
       "      <th>dt</th>\n",
       "      <th>user_id</th>\n",
       "      <th>restaurant_id</th>\n",
       "      <th>status</th>\n",
       "      <th>distance</th>\n",
       "      <th>final_food_price</th>\n",
       "      <th>df_createtime</th>\n",
       "    </tr>\n",
       "  </thead>\n",
       "  <tbody>\n",
       "    <tr>\n",
       "      <th>222</th>\n",
       "      <td>transaction_1105</td>\n",
       "      <td>20210322</td>\n",
       "      <td>user_7322</td>\n",
       "      <td>restaurant_1385</td>\n",
       "      <td>COMPLETED</td>\n",
       "      <td>831.0</td>\n",
       "      <td>50.0</td>\n",
       "      <td>2021-03-22 09:43:39</td>\n",
       "    </tr>\n",
       "    <tr>\n",
       "      <th>223</th>\n",
       "      <td>transaction_1106</td>\n",
       "      <td>20210322</td>\n",
       "      <td>user_16010</td>\n",
       "      <td>restaurant_461</td>\n",
       "      <td>COMPLETED</td>\n",
       "      <td>6201.0</td>\n",
       "      <td>100.0</td>\n",
       "      <td>2021-03-22 14:52:35</td>\n",
       "    </tr>\n",
       "    <tr>\n",
       "      <th>224</th>\n",
       "      <td>transaction_1107</td>\n",
       "      <td>20210322</td>\n",
       "      <td>user_1819</td>\n",
       "      <td>restaurant_486</td>\n",
       "      <td>COMPLETED</td>\n",
       "      <td>5034.0</td>\n",
       "      <td>65.0</td>\n",
       "      <td>2021-03-22 11:46:26</td>\n",
       "    </tr>\n",
       "    <tr>\n",
       "      <th>225</th>\n",
       "      <td>transaction_1108</td>\n",
       "      <td>20210322</td>\n",
       "      <td>user_19560</td>\n",
       "      <td>restaurant_753</td>\n",
       "      <td>COMPLETED</td>\n",
       "      <td>1776.0</td>\n",
       "      <td>50.0</td>\n",
       "      <td>2021-03-22 13:15:38</td>\n",
       "    </tr>\n",
       "    <tr>\n",
       "      <th>226</th>\n",
       "      <td>transaction_1109</td>\n",
       "      <td>20210322</td>\n",
       "      <td>user_6532</td>\n",
       "      <td>restaurant_1697</td>\n",
       "      <td>COMPLETED</td>\n",
       "      <td>1884.0</td>\n",
       "      <td>55.0</td>\n",
       "      <td>2021-03-22 07:35:13</td>\n",
       "    </tr>\n",
       "  </tbody>\n",
       "</table>\n",
       "</div>"
      ],
      "text/plain": [
       "       transaction_id        dt     user_id    restaurant_id     status  \\\n",
       "222  transaction_1105  20210322   user_7322  restaurant_1385  COMPLETED   \n",
       "223  transaction_1106  20210322  user_16010   restaurant_461  COMPLETED   \n",
       "224  transaction_1107  20210322   user_1819   restaurant_486  COMPLETED   \n",
       "225  transaction_1108  20210322  user_19560   restaurant_753  COMPLETED   \n",
       "226  transaction_1109  20210322   user_6532  restaurant_1697  COMPLETED   \n",
       "\n",
       "     distance  final_food_price       df_createtime  \n",
       "222     831.0              50.0 2021-03-22 09:43:39  \n",
       "223    6201.0             100.0 2021-03-22 14:52:35  \n",
       "224    5034.0              65.0 2021-03-22 11:46:26  \n",
       "225    1776.0              50.0 2021-03-22 13:15:38  \n",
       "226    1884.0              55.0 2021-03-22 07:35:13  "
      ]
     },
     "execution_count": 44,
     "metadata": {},
     "output_type": "execute_result"
    }
   ],
   "source": [
    "invoice.head()"
   ]
  },
  {
   "cell_type": "code",
   "execution_count": 45,
   "metadata": {
    "execution": {
     "iopub.execute_input": "2023-01-22T15:51:57.571510Z",
     "iopub.status.busy": "2023-01-22T15:51:57.571001Z",
     "iopub.status.idle": "2023-01-22T15:51:57.604935Z",
     "shell.execute_reply": "2023-01-22T15:51:57.603230Z",
     "shell.execute_reply.started": "2023-01-22T15:51:57.571468Z"
    }
   },
   "outputs": [
    {
     "data": {
      "text/plain": [
       "transaction_id      0\n",
       "dt                  0\n",
       "user_id             0\n",
       "restaurant_id       0\n",
       "status              0\n",
       "distance            0\n",
       "final_food_price    0\n",
       "df_createtime       0\n",
       "dtype: int64"
      ]
     },
     "execution_count": 45,
     "metadata": {},
     "output_type": "execute_result"
    }
   ],
   "source": [
    "invoice.isnull().sum()"
   ]
  },
  {
   "cell_type": "code",
   "execution_count": 46,
   "metadata": {
    "execution": {
     "iopub.execute_input": "2023-01-22T15:51:57.607543Z",
     "iopub.status.busy": "2023-01-22T15:51:57.606528Z",
     "iopub.status.idle": "2023-01-22T15:51:57.619345Z",
     "shell.execute_reply": "2023-01-22T15:51:57.617125Z",
     "shell.execute_reply.started": "2023-01-22T15:51:57.607505Z"
    }
   },
   "outputs": [
    {
     "data": {
      "text/html": [
       "<div>\n",
       "<style scoped>\n",
       "    .dataframe tbody tr th:only-of-type {\n",
       "        vertical-align: middle;\n",
       "    }\n",
       "\n",
       "    .dataframe tbody tr th {\n",
       "        vertical-align: top;\n",
       "    }\n",
       "\n",
       "    .dataframe thead th {\n",
       "        text-align: right;\n",
       "    }\n",
       "</style>\n",
       "<table border=\"1\" class=\"dataframe\">\n",
       "  <thead>\n",
       "    <tr style=\"text-align: right;\">\n",
       "      <th></th>\n",
       "      <th>user_id</th>\n",
       "      <th>nextpurchaseday</th>\n",
       "    </tr>\n",
       "  </thead>\n",
       "  <tbody>\n",
       "    <tr>\n",
       "      <th>6896</th>\n",
       "      <td>user_16203</td>\n",
       "      <td>0.0</td>\n",
       "    </tr>\n",
       "    <tr>\n",
       "      <th>14075</th>\n",
       "      <td>user_22665</td>\n",
       "      <td>0.0</td>\n",
       "    </tr>\n",
       "    <tr>\n",
       "      <th>11068</th>\n",
       "      <td>user_1996</td>\n",
       "      <td>0.0</td>\n",
       "    </tr>\n",
       "    <tr>\n",
       "      <th>4490</th>\n",
       "      <td>user_14038</td>\n",
       "      <td>0.0</td>\n",
       "    </tr>\n",
       "    <tr>\n",
       "      <th>20102</th>\n",
       "      <td>user_7609</td>\n",
       "      <td>0.0</td>\n",
       "    </tr>\n",
       "  </tbody>\n",
       "</table>\n",
       "</div>"
      ],
      "text/plain": [
       "          user_id  nextpurchaseday\n",
       "6896   user_16203              0.0\n",
       "14075  user_22665              0.0\n",
       "11068   user_1996              0.0\n",
       "4490   user_14038              0.0\n",
       "20102   user_7609              0.0"
      ]
     },
     "metadata": {},
     "output_type": "display_data"
    }
   ],
   "source": [
    "display(nextpurchase.head())"
   ]
  },
  {
   "cell_type": "code",
   "execution_count": 47,
   "metadata": {
    "execution": {
     "iopub.execute_input": "2023-01-22T15:51:57.621242Z",
     "iopub.status.busy": "2023-01-22T15:51:57.620847Z",
     "iopub.status.idle": "2023-01-22T15:51:57.642903Z",
     "shell.execute_reply": "2023-01-22T15:51:57.641502Z",
     "shell.execute_reply.started": "2023-01-22T15:51:57.621209Z"
    }
   },
   "outputs": [
    {
     "data": {
      "text/plain": [
       "user_id            0\n",
       "nextpurchaseday    0\n",
       "dtype: int64"
      ]
     },
     "execution_count": 47,
     "metadata": {},
     "output_type": "execute_result"
    }
   ],
   "source": [
    "nextpurchase.isnull().sum()"
   ]
  },
  {
   "cell_type": "markdown",
   "metadata": {},
   "source": [
    "# Feature Engineering"
   ]
  },
  {
   "cell_type": "markdown",
   "metadata": {},
   "source": [
    "**1.RFM ANALYSIS**"
   ]
  },
  {
   "cell_type": "markdown",
   "metadata": {},
   "source": [
    "เราจะใช้ RFM analysis ในการสร้าง feature ใหม่ของเรา คือ\n",
    "\n",
    "* recency  ความเป็นปัจจุบัน\n",
    "* frequency ความถี่ในการซื้อ\n",
    "* monetary รายได้ที่เราได้ ( ในส่วนนี้ ทางแอพ ไม่ได้รายได้จากค่าอาหารโดยตรงแต่รายได้ก็มาจากการหัก ค่า gp จากค่าอาหาร ดังนั้นจึงถือว่าในส่วนนี้ใช้แทนกันได้ )\n",
    "\n",
    "โดยเราจะแบ่ง segment ของลูกค้า ออกเป็นสอง เกรด คือ high-value กับ low-value จากการใช้ kmeans ในการcluster กลุ่ม ออกเป็น 4 กลุ่ม ซึ่งตัวเลข 4 นั้น ได้มาจากการ ทำ Elbow method แล้ว\n",
    "\n",
    "สาเหตุที่แบ่งเกรดแค่ high  กับ low  เนื่องจากว่าการ predict ของเรานั้นแค่ 3 วัน ทำให้ หากมี middle เข้ามาด้วยอาจจะเกิด noise ต่อโมเดล\n"
   ]
  },
  {
   "cell_type": "markdown",
   "metadata": {},
   "source": [
    "**RECENCY**"
   ]
  },
  {
   "cell_type": "code",
   "execution_count": 48,
   "metadata": {
    "execution": {
     "iopub.execute_input": "2023-01-22T15:51:57.646383Z",
     "iopub.status.busy": "2023-01-22T15:51:57.645897Z",
     "iopub.status.idle": "2023-01-22T15:51:57.724705Z",
     "shell.execute_reply": "2023-01-22T15:51:57.723277Z",
     "shell.execute_reply.started": "2023-01-22T15:51:57.646354Z"
    }
   },
   "outputs": [
    {
     "data": {
      "text/html": [
       "<div>\n",
       "<style scoped>\n",
       "    .dataframe tbody tr th:only-of-type {\n",
       "        vertical-align: middle;\n",
       "    }\n",
       "\n",
       "    .dataframe tbody tr th {\n",
       "        vertical-align: top;\n",
       "    }\n",
       "\n",
       "    .dataframe thead th {\n",
       "        text-align: right;\n",
       "    }\n",
       "</style>\n",
       "<table border=\"1\" class=\"dataframe\">\n",
       "  <thead>\n",
       "    <tr style=\"text-align: right;\">\n",
       "      <th></th>\n",
       "      <th>user_id</th>\n",
       "      <th>nextpurchaseday</th>\n",
       "      <th>Recency</th>\n",
       "    </tr>\n",
       "  </thead>\n",
       "  <tbody>\n",
       "    <tr>\n",
       "      <th>0</th>\n",
       "      <td>user_16203</td>\n",
       "      <td>0.0</td>\n",
       "      <td>0</td>\n",
       "    </tr>\n",
       "    <tr>\n",
       "      <th>1</th>\n",
       "      <td>user_22665</td>\n",
       "      <td>0.0</td>\n",
       "      <td>0</td>\n",
       "    </tr>\n",
       "    <tr>\n",
       "      <th>2</th>\n",
       "      <td>user_1996</td>\n",
       "      <td>0.0</td>\n",
       "      <td>0</td>\n",
       "    </tr>\n",
       "    <tr>\n",
       "      <th>3</th>\n",
       "      <td>user_14038</td>\n",
       "      <td>0.0</td>\n",
       "      <td>0</td>\n",
       "    </tr>\n",
       "    <tr>\n",
       "      <th>4</th>\n",
       "      <td>user_7609</td>\n",
       "      <td>0.0</td>\n",
       "      <td>0</td>\n",
       "    </tr>\n",
       "  </tbody>\n",
       "</table>\n",
       "</div>"
      ],
      "text/plain": [
       "      user_id  nextpurchaseday  Recency\n",
       "0  user_16203              0.0        0\n",
       "1  user_22665              0.0        0\n",
       "2   user_1996              0.0        0\n",
       "3  user_14038              0.0        0\n",
       "4   user_7609              0.0        0"
      ]
     },
     "execution_count": 48,
     "metadata": {},
     "output_type": "execute_result"
    }
   ],
   "source": [
    "last = pd.DataFrame(invoice.groupby('user_id').df_createtime.max()).reset_index()\n",
    "last.columns = ['user_id','lastpurchasedate']\n",
    "last['Recency'] = (last.lastpurchasedate.max() - last.lastpurchasedate).dt.days\n",
    "nextpurchase = nextpurchase.merge(last[['user_id','Recency']] , on = 'user_id')\n",
    "nextpurchase.head()"
   ]
  },
  {
   "cell_type": "code",
   "execution_count": 49,
   "metadata": {
    "execution": {
     "iopub.execute_input": "2023-01-22T15:51:57.726633Z",
     "iopub.status.busy": "2023-01-22T15:51:57.726278Z",
     "iopub.status.idle": "2023-01-22T15:51:57.976157Z",
     "shell.execute_reply": "2023-01-22T15:51:57.974378Z",
     "shell.execute_reply.started": "2023-01-22T15:51:57.726604Z"
    }
   },
   "outputs": [
    {
     "data": {
      "text/plain": [
       "<AxesSubplot:xlabel='Recency', ylabel='Density'>"
      ]
     },
     "execution_count": 49,
     "metadata": {},
     "output_type": "execute_result"
    },
    {
     "data": {
      "image/png": "[encoded data removed]",
      "text/plain": [
       "<Figure size 640x480 with 1 Axes>"
      ]
     },
     "metadata": {},
     "output_type": "display_data"
    }
   ],
   "source": [
    "sns.kdeplot(nextpurchase.Recency,shade = True)"
   ]
  },
  {
   "cell_type": "code",
   "execution_count": 50,
   "metadata": {
    "execution": {
     "iopub.execute_input": "2023-01-22T15:51:57.978834Z",
     "iopub.status.busy": "2023-01-22T15:51:57.978411Z",
     "iopub.status.idle": "2023-01-22T15:51:58.118450Z",
     "shell.execute_reply": "2023-01-22T15:51:58.117137Z",
     "shell.execute_reply.started": "2023-01-22T15:51:57.978803Z"
    }
   },
   "outputs": [],
   "source": [
    " from sklearn.cluster import KMeans"
   ]
  },
  {
   "cell_type": "code",
   "execution_count": 51,
   "metadata": {
    "execution": {
     "iopub.execute_input": "2023-01-22T15:51:58.121587Z",
     "iopub.status.busy": "2023-01-22T15:51:58.121072Z",
     "iopub.status.idle": "2023-01-22T15:51:58.474718Z",
     "shell.execute_reply": "2023-01-22T15:51:58.473900Z",
     "shell.execute_reply.started": "2023-01-22T15:51:58.121551Z"
    }
   },
   "outputs": [
    {
     "data": {
      "text/html": [
       "<div>\n",
       "<style scoped>\n",
       "    .dataframe tbody tr th:only-of-type {\n",
       "        vertical-align: middle;\n",
       "    }\n",
       "\n",
       "    .dataframe tbody tr th {\n",
       "        vertical-align: top;\n",
       "    }\n",
       "\n",
       "    .dataframe thead th {\n",
       "        text-align: right;\n",
       "    }\n",
       "</style>\n",
       "<table border=\"1\" class=\"dataframe\">\n",
       "  <thead>\n",
       "    <tr style=\"text-align: right;\">\n",
       "      <th></th>\n",
       "      <th>user_id</th>\n",
       "      <th>nextpurchaseday</th>\n",
       "      <th>Recency</th>\n",
       "      <th>RecencyCluster</th>\n",
       "    </tr>\n",
       "  </thead>\n",
       "  <tbody>\n",
       "    <tr>\n",
       "      <th>0</th>\n",
       "      <td>user_16203</td>\n",
       "      <td>0.0</td>\n",
       "      <td>0</td>\n",
       "      <td>3</td>\n",
       "    </tr>\n",
       "    <tr>\n",
       "      <th>1</th>\n",
       "      <td>user_22665</td>\n",
       "      <td>0.0</td>\n",
       "      <td>0</td>\n",
       "      <td>3</td>\n",
       "    </tr>\n",
       "    <tr>\n",
       "      <th>2</th>\n",
       "      <td>user_1996</td>\n",
       "      <td>0.0</td>\n",
       "      <td>0</td>\n",
       "      <td>3</td>\n",
       "    </tr>\n",
       "    <tr>\n",
       "      <th>3</th>\n",
       "      <td>user_14038</td>\n",
       "      <td>0.0</td>\n",
       "      <td>0</td>\n",
       "      <td>3</td>\n",
       "    </tr>\n",
       "    <tr>\n",
       "      <th>4</th>\n",
       "      <td>user_7609</td>\n",
       "      <td>0.0</td>\n",
       "      <td>0</td>\n",
       "      <td>3</td>\n",
       "    </tr>\n",
       "  </tbody>\n",
       "</table>\n",
       "</div>"
      ],
      "text/plain": [
       "      user_id  nextpurchaseday  Recency  RecencyCluster\n",
       "0  user_16203              0.0        0               3\n",
       "1  user_22665              0.0        0               3\n",
       "2   user_1996              0.0        0               3\n",
       "3  user_14038              0.0        0               3\n",
       "4   user_7609              0.0        0               3"
      ]
     },
     "execution_count": 51,
     "metadata": {},
     "output_type": "execute_result"
    }
   ],
   "source": [
    "kmeans = KMeans(n_clusters=4)\n",
    "kmeans.fit(nextpurchase[['Recency']])\n",
    "nextpurchase['RecencyCluster'] = kmeans.predict(nextpurchase[['Recency']])\n",
    "nextpurchase = order_cluster(nextpurchase, 'Recency', 'RecencyCluster', False)\n",
    "nextpurchase.head()"
   ]
  },
  {
   "cell_type": "markdown",
   "metadata": {},
   "source": [
    " **Frequency**"
   ]
  },
  {
   "cell_type": "code",
   "execution_count": 52,
   "metadata": {
    "execution": {
     "iopub.execute_input": "2023-01-22T15:51:58.477731Z",
     "iopub.status.busy": "2023-01-22T15:51:58.476583Z",
     "iopub.status.idle": "2023-01-22T15:51:58.544537Z",
     "shell.execute_reply": "2023-01-22T15:51:58.543295Z",
     "shell.execute_reply.started": "2023-01-22T15:51:58.477676Z"
    }
   },
   "outputs": [
    {
     "data": {
      "text/html": [
       "<div>\n",
       "<style scoped>\n",
       "    .dataframe tbody tr th:only-of-type {\n",
       "        vertical-align: middle;\n",
       "    }\n",
       "\n",
       "    .dataframe tbody tr th {\n",
       "        vertical-align: top;\n",
       "    }\n",
       "\n",
       "    .dataframe thead th {\n",
       "        text-align: right;\n",
       "    }\n",
       "</style>\n",
       "<table border=\"1\" class=\"dataframe\">\n",
       "  <thead>\n",
       "    <tr style=\"text-align: right;\">\n",
       "      <th></th>\n",
       "      <th>user_id</th>\n",
       "      <th>nextpurchaseday</th>\n",
       "      <th>Recency</th>\n",
       "      <th>RecencyCluster</th>\n",
       "      <th>frequency</th>\n",
       "    </tr>\n",
       "  </thead>\n",
       "  <tbody>\n",
       "    <tr>\n",
       "      <th>0</th>\n",
       "      <td>user_16203</td>\n",
       "      <td>0.0</td>\n",
       "      <td>0</td>\n",
       "      <td>3</td>\n",
       "      <td>3</td>\n",
       "    </tr>\n",
       "    <tr>\n",
       "      <th>1</th>\n",
       "      <td>user_22665</td>\n",
       "      <td>0.0</td>\n",
       "      <td>0</td>\n",
       "      <td>3</td>\n",
       "      <td>21</td>\n",
       "    </tr>\n",
       "    <tr>\n",
       "      <th>2</th>\n",
       "      <td>user_1996</td>\n",
       "      <td>0.0</td>\n",
       "      <td>0</td>\n",
       "      <td>3</td>\n",
       "      <td>34</td>\n",
       "    </tr>\n",
       "    <tr>\n",
       "      <th>3</th>\n",
       "      <td>user_14038</td>\n",
       "      <td>0.0</td>\n",
       "      <td>0</td>\n",
       "      <td>3</td>\n",
       "      <td>10</td>\n",
       "    </tr>\n",
       "    <tr>\n",
       "      <th>4</th>\n",
       "      <td>user_7609</td>\n",
       "      <td>0.0</td>\n",
       "      <td>0</td>\n",
       "      <td>3</td>\n",
       "      <td>7</td>\n",
       "    </tr>\n",
       "  </tbody>\n",
       "</table>\n",
       "</div>"
      ],
      "text/plain": [
       "      user_id  nextpurchaseday  Recency  RecencyCluster  frequency\n",
       "0  user_16203              0.0        0               3          3\n",
       "1  user_22665              0.0        0               3         21\n",
       "2   user_1996              0.0        0               3         34\n",
       "3  user_14038              0.0        0               3         10\n",
       "4   user_7609              0.0        0               3          7"
      ]
     },
     "execution_count": 52,
     "metadata": {},
     "output_type": "execute_result"
    }
   ],
   "source": [
    "frequence  = pd.DataFrame(invoice.groupby('user_id').df_createtime.count()).reset_index()\n",
    "frequence.columns = ['user_id', 'frequency']\n",
    "nextpurchase = nextpurchase.merge(frequence, on='user_id')\n",
    "nextpurchase.head()"
   ]
  },
  {
   "cell_type": "code",
   "execution_count": 53,
   "metadata": {
    "execution": {
     "iopub.execute_input": "2023-01-22T15:51:58.546390Z",
     "iopub.status.busy": "2023-01-22T15:51:58.545913Z",
     "iopub.status.idle": "2023-01-22T15:51:58.709888Z",
     "shell.execute_reply": "2023-01-22T15:51:58.709172Z",
     "shell.execute_reply.started": "2023-01-22T15:51:58.546362Z"
    }
   },
   "outputs": [
    {
     "data": {
      "text/html": [
       "<div>\n",
       "<style scoped>\n",
       "    .dataframe tbody tr th:only-of-type {\n",
       "        vertical-align: middle;\n",
       "    }\n",
       "\n",
       "    .dataframe tbody tr th {\n",
       "        vertical-align: top;\n",
       "    }\n",
       "\n",
       "    .dataframe thead th {\n",
       "        text-align: right;\n",
       "    }\n",
       "</style>\n",
       "<table border=\"1\" class=\"dataframe\">\n",
       "  <thead>\n",
       "    <tr style=\"text-align: right;\">\n",
       "      <th></th>\n",
       "      <th>user_id</th>\n",
       "      <th>nextpurchaseday</th>\n",
       "      <th>Recency</th>\n",
       "      <th>RecencyCluster</th>\n",
       "      <th>frequency</th>\n",
       "      <th>frequencyCluster</th>\n",
       "    </tr>\n",
       "  </thead>\n",
       "  <tbody>\n",
       "    <tr>\n",
       "      <th>0</th>\n",
       "      <td>user_16203</td>\n",
       "      <td>0.0</td>\n",
       "      <td>0</td>\n",
       "      <td>3</td>\n",
       "      <td>3</td>\n",
       "      <td>3</td>\n",
       "    </tr>\n",
       "    <tr>\n",
       "      <th>1</th>\n",
       "      <td>user_7609</td>\n",
       "      <td>0.0</td>\n",
       "      <td>0</td>\n",
       "      <td>3</td>\n",
       "      <td>7</td>\n",
       "      <td>3</td>\n",
       "    </tr>\n",
       "    <tr>\n",
       "      <th>2</th>\n",
       "      <td>user_15276</td>\n",
       "      <td>0.0</td>\n",
       "      <td>0</td>\n",
       "      <td>3</td>\n",
       "      <td>1</td>\n",
       "      <td>3</td>\n",
       "    </tr>\n",
       "    <tr>\n",
       "      <th>3</th>\n",
       "      <td>user_7870</td>\n",
       "      <td>0.0</td>\n",
       "      <td>0</td>\n",
       "      <td>3</td>\n",
       "      <td>6</td>\n",
       "      <td>3</td>\n",
       "    </tr>\n",
       "    <tr>\n",
       "      <th>4</th>\n",
       "      <td>user_11858</td>\n",
       "      <td>0.0</td>\n",
       "      <td>0</td>\n",
       "      <td>3</td>\n",
       "      <td>1</td>\n",
       "      <td>3</td>\n",
       "    </tr>\n",
       "  </tbody>\n",
       "</table>\n",
       "</div>"
      ],
      "text/plain": [
       "      user_id  nextpurchaseday  Recency  RecencyCluster  frequency  \\\n",
       "0  user_16203              0.0        0               3          3   \n",
       "1   user_7609              0.0        0               3          7   \n",
       "2  user_15276              0.0        0               3          1   \n",
       "3   user_7870              0.0        0               3          6   \n",
       "4  user_11858              0.0        0               3          1   \n",
       "\n",
       "   frequencyCluster  \n",
       "0                 3  \n",
       "1                 3  \n",
       "2                 3  \n",
       "3                 3  \n",
       "4                 3  "
      ]
     },
     "execution_count": 53,
     "metadata": {},
     "output_type": "execute_result"
    }
   ],
   "source": [
    "kmeans = KMeans(n_clusters=4)\n",
    "kmeans.fit(nextpurchase[['frequency']])\n",
    "nextpurchase['frequencyCluster'] = kmeans.predict(nextpurchase[['frequency']])\n",
    "nextpurchase = order_cluster(nextpurchase, 'frequency', 'frequencyCluster', False)\n",
    "nextpurchase.head()"
   ]
  },
  {
   "cell_type": "markdown",
   "metadata": {},
   "source": [
    "**Revenue**"
   ]
  },
  {
   "cell_type": "code",
   "execution_count": 54,
   "metadata": {
    "execution": {
     "iopub.execute_input": "2023-01-22T15:51:58.711263Z",
     "iopub.status.busy": "2023-01-22T15:51:58.710924Z",
     "iopub.status.idle": "2023-01-22T15:51:58.775478Z",
     "shell.execute_reply": "2023-01-22T15:51:58.774750Z",
     "shell.execute_reply.started": "2023-01-22T15:51:58.711238Z"
    }
   },
   "outputs": [
    {
     "data": {
      "text/html": [
       "<div>\n",
       "<style scoped>\n",
       "    .dataframe tbody tr th:only-of-type {\n",
       "        vertical-align: middle;\n",
       "    }\n",
       "\n",
       "    .dataframe tbody tr th {\n",
       "        vertical-align: top;\n",
       "    }\n",
       "\n",
       "    .dataframe thead th {\n",
       "        text-align: right;\n",
       "    }\n",
       "</style>\n",
       "<table border=\"1\" class=\"dataframe\">\n",
       "  <thead>\n",
       "    <tr style=\"text-align: right;\">\n",
       "      <th></th>\n",
       "      <th>user_id</th>\n",
       "      <th>nextpurchaseday</th>\n",
       "      <th>Recency</th>\n",
       "      <th>RecencyCluster</th>\n",
       "      <th>frequency</th>\n",
       "      <th>frequencyCluster</th>\n",
       "      <th>revenue</th>\n",
       "    </tr>\n",
       "  </thead>\n",
       "  <tbody>\n",
       "    <tr>\n",
       "      <th>0</th>\n",
       "      <td>user_16203</td>\n",
       "      <td>0.0</td>\n",
       "      <td>0</td>\n",
       "      <td>3</td>\n",
       "      <td>3</td>\n",
       "      <td>3</td>\n",
       "      <td>354.0</td>\n",
       "    </tr>\n",
       "    <tr>\n",
       "      <th>1</th>\n",
       "      <td>user_7609</td>\n",
       "      <td>0.0</td>\n",
       "      <td>0</td>\n",
       "      <td>3</td>\n",
       "      <td>7</td>\n",
       "      <td>3</td>\n",
       "      <td>429.0</td>\n",
       "    </tr>\n",
       "    <tr>\n",
       "      <th>2</th>\n",
       "      <td>user_15276</td>\n",
       "      <td>0.0</td>\n",
       "      <td>0</td>\n",
       "      <td>3</td>\n",
       "      <td>1</td>\n",
       "      <td>3</td>\n",
       "      <td>40.0</td>\n",
       "    </tr>\n",
       "    <tr>\n",
       "      <th>3</th>\n",
       "      <td>user_7870</td>\n",
       "      <td>0.0</td>\n",
       "      <td>0</td>\n",
       "      <td>3</td>\n",
       "      <td>6</td>\n",
       "      <td>3</td>\n",
       "      <td>750.0</td>\n",
       "    </tr>\n",
       "    <tr>\n",
       "      <th>4</th>\n",
       "      <td>user_11858</td>\n",
       "      <td>0.0</td>\n",
       "      <td>0</td>\n",
       "      <td>3</td>\n",
       "      <td>1</td>\n",
       "      <td>3</td>\n",
       "      <td>154.0</td>\n",
       "    </tr>\n",
       "  </tbody>\n",
       "</table>\n",
       "</div>"
      ],
      "text/plain": [
       "      user_id  nextpurchaseday  Recency  RecencyCluster  frequency  \\\n",
       "0  user_16203              0.0        0               3          3   \n",
       "1   user_7609              0.0        0               3          7   \n",
       "2  user_15276              0.0        0               3          1   \n",
       "3   user_7870              0.0        0               3          6   \n",
       "4  user_11858              0.0        0               3          1   \n",
       "\n",
       "   frequencyCluster  revenue  \n",
       "0                 3    354.0  \n",
       "1                 3    429.0  \n",
       "2                 3     40.0  \n",
       "3                 3    750.0  \n",
       "4                 3    154.0  "
      ]
     },
     "execution_count": 54,
     "metadata": {},
     "output_type": "execute_result"
    }
   ],
   "source": [
    "revenue  = pd.DataFrame(invoice.groupby('user_id').final_food_price.sum()).reset_index()\n",
    "revenue.columns = ['user_id', 'revenue']\n",
    "nextpurchase = nextpurchase.merge(revenue, on='user_id')\n",
    "nextpurchase.head()"
   ]
  },
  {
   "cell_type": "code",
   "execution_count": 55,
   "metadata": {
    "execution": {
     "iopub.execute_input": "2023-01-22T15:51:58.777122Z",
     "iopub.status.busy": "2023-01-22T15:51:58.776686Z",
     "iopub.status.idle": "2023-01-22T15:51:59.011139Z",
     "shell.execute_reply": "2023-01-22T15:51:59.010377Z",
     "shell.execute_reply.started": "2023-01-22T15:51:58.777096Z"
    }
   },
   "outputs": [
    {
     "data": {
      "text/html": [
       "<div>\n",
       "<style scoped>\n",
       "    .dataframe tbody tr th:only-of-type {\n",
       "        vertical-align: middle;\n",
       "    }\n",
       "\n",
       "    .dataframe tbody tr th {\n",
       "        vertical-align: top;\n",
       "    }\n",
       "\n",
       "    .dataframe thead th {\n",
       "        text-align: right;\n",
       "    }\n",
       "</style>\n",
       "<table border=\"1\" class=\"dataframe\">\n",
       "  <thead>\n",
       "    <tr style=\"text-align: right;\">\n",
       "      <th></th>\n",
       "      <th>user_id</th>\n",
       "      <th>nextpurchaseday</th>\n",
       "      <th>Recency</th>\n",
       "      <th>RecencyCluster</th>\n",
       "      <th>frequency</th>\n",
       "      <th>frequencyCluster</th>\n",
       "      <th>revenue</th>\n",
       "      <th>revenueCluster</th>\n",
       "    </tr>\n",
       "  </thead>\n",
       "  <tbody>\n",
       "    <tr>\n",
       "      <th>0</th>\n",
       "      <td>user_16203</td>\n",
       "      <td>0.0</td>\n",
       "      <td>0</td>\n",
       "      <td>3</td>\n",
       "      <td>3</td>\n",
       "      <td>3</td>\n",
       "      <td>354.0</td>\n",
       "      <td>0</td>\n",
       "    </tr>\n",
       "    <tr>\n",
       "      <th>1</th>\n",
       "      <td>user_7609</td>\n",
       "      <td>0.0</td>\n",
       "      <td>0</td>\n",
       "      <td>3</td>\n",
       "      <td>7</td>\n",
       "      <td>3</td>\n",
       "      <td>429.0</td>\n",
       "      <td>0</td>\n",
       "    </tr>\n",
       "    <tr>\n",
       "      <th>2</th>\n",
       "      <td>user_15276</td>\n",
       "      <td>0.0</td>\n",
       "      <td>0</td>\n",
       "      <td>3</td>\n",
       "      <td>1</td>\n",
       "      <td>3</td>\n",
       "      <td>40.0</td>\n",
       "      <td>0</td>\n",
       "    </tr>\n",
       "    <tr>\n",
       "      <th>3</th>\n",
       "      <td>user_7870</td>\n",
       "      <td>0.0</td>\n",
       "      <td>0</td>\n",
       "      <td>3</td>\n",
       "      <td>6</td>\n",
       "      <td>3</td>\n",
       "      <td>750.0</td>\n",
       "      <td>0</td>\n",
       "    </tr>\n",
       "    <tr>\n",
       "      <th>4</th>\n",
       "      <td>user_11858</td>\n",
       "      <td>0.0</td>\n",
       "      <td>0</td>\n",
       "      <td>3</td>\n",
       "      <td>1</td>\n",
       "      <td>3</td>\n",
       "      <td>154.0</td>\n",
       "      <td>0</td>\n",
       "    </tr>\n",
       "  </tbody>\n",
       "</table>\n",
       "</div>"
      ],
      "text/plain": [
       "      user_id  nextpurchaseday  Recency  RecencyCluster  frequency  \\\n",
       "0  user_16203              0.0        0               3          3   \n",
       "1   user_7609              0.0        0               3          7   \n",
       "2  user_15276              0.0        0               3          1   \n",
       "3   user_7870              0.0        0               3          6   \n",
       "4  user_11858              0.0        0               3          1   \n",
       "\n",
       "   frequencyCluster  revenue  revenueCluster  \n",
       "0                 3    354.0               0  \n",
       "1                 3    429.0               0  \n",
       "2                 3     40.0               0  \n",
       "3                 3    750.0               0  \n",
       "4                 3    154.0               0  "
      ]
     },
     "execution_count": 55,
     "metadata": {},
     "output_type": "execute_result"
    }
   ],
   "source": [
    "kmeans = KMeans(n_clusters=4)\n",
    "kmeans.fit(nextpurchase[['revenue']])\n",
    "nextpurchase['revenueCluster'] = kmeans.predict(nextpurchase[['revenue']])\n",
    "nextpurchase = order_cluster(nextpurchase, 'revenue', 'revenueCluster', True)\n",
    "nextpurchase.head()"
   ]
  },
  {
   "cell_type": "code",
   "execution_count": 56,
   "metadata": {
    "execution": {
     "iopub.execute_input": "2023-01-22T15:51:59.012754Z",
     "iopub.status.busy": "2023-01-22T15:51:59.012306Z",
     "iopub.status.idle": "2023-01-22T15:51:59.030384Z",
     "shell.execute_reply": "2023-01-22T15:51:59.028316Z",
     "shell.execute_reply.started": "2023-01-22T15:51:59.012725Z"
    }
   },
   "outputs": [
    {
     "data": {
      "text/html": [
       "<div>\n",
       "<style scoped>\n",
       "    .dataframe tbody tr th:only-of-type {\n",
       "        vertical-align: middle;\n",
       "    }\n",
       "\n",
       "    .dataframe tbody tr th {\n",
       "        vertical-align: top;\n",
       "    }\n",
       "\n",
       "    .dataframe thead th {\n",
       "        text-align: right;\n",
       "    }\n",
       "</style>\n",
       "<table border=\"1\" class=\"dataframe\">\n",
       "  <thead>\n",
       "    <tr style=\"text-align: right;\">\n",
       "      <th></th>\n",
       "      <th>user_id</th>\n",
       "      <th>nextpurchaseday</th>\n",
       "      <th>Recency</th>\n",
       "      <th>RecencyCluster</th>\n",
       "      <th>frequency</th>\n",
       "      <th>frequencyCluster</th>\n",
       "      <th>revenue</th>\n",
       "      <th>revenueCluster</th>\n",
       "    </tr>\n",
       "  </thead>\n",
       "  <tbody>\n",
       "    <tr>\n",
       "      <th>0</th>\n",
       "      <td>user_16203</td>\n",
       "      <td>0.0</td>\n",
       "      <td>0</td>\n",
       "      <td>3</td>\n",
       "      <td>3</td>\n",
       "      <td>3</td>\n",
       "      <td>354.0</td>\n",
       "      <td>0</td>\n",
       "    </tr>\n",
       "    <tr>\n",
       "      <th>1</th>\n",
       "      <td>user_7609</td>\n",
       "      <td>0.0</td>\n",
       "      <td>0</td>\n",
       "      <td>3</td>\n",
       "      <td>7</td>\n",
       "      <td>3</td>\n",
       "      <td>429.0</td>\n",
       "      <td>0</td>\n",
       "    </tr>\n",
       "    <tr>\n",
       "      <th>2</th>\n",
       "      <td>user_15276</td>\n",
       "      <td>0.0</td>\n",
       "      <td>0</td>\n",
       "      <td>3</td>\n",
       "      <td>1</td>\n",
       "      <td>3</td>\n",
       "      <td>40.0</td>\n",
       "      <td>0</td>\n",
       "    </tr>\n",
       "    <tr>\n",
       "      <th>3</th>\n",
       "      <td>user_7870</td>\n",
       "      <td>0.0</td>\n",
       "      <td>0</td>\n",
       "      <td>3</td>\n",
       "      <td>6</td>\n",
       "      <td>3</td>\n",
       "      <td>750.0</td>\n",
       "      <td>0</td>\n",
       "    </tr>\n",
       "    <tr>\n",
       "      <th>4</th>\n",
       "      <td>user_11858</td>\n",
       "      <td>0.0</td>\n",
       "      <td>0</td>\n",
       "      <td>3</td>\n",
       "      <td>1</td>\n",
       "      <td>3</td>\n",
       "      <td>154.0</td>\n",
       "      <td>0</td>\n",
       "    </tr>\n",
       "  </tbody>\n",
       "</table>\n",
       "</div>"
      ],
      "text/plain": [
       "      user_id  nextpurchaseday  Recency  RecencyCluster  frequency  \\\n",
       "0  user_16203              0.0        0               3          3   \n",
       "1   user_7609              0.0        0               3          7   \n",
       "2  user_15276              0.0        0               3          1   \n",
       "3   user_7870              0.0        0               3          6   \n",
       "4  user_11858              0.0        0               3          1   \n",
       "\n",
       "   frequencyCluster  revenue  revenueCluster  \n",
       "0                 3    354.0               0  \n",
       "1                 3    429.0               0  \n",
       "2                 3     40.0               0  \n",
       "3                 3    750.0               0  \n",
       "4                 3    154.0               0  "
      ]
     },
     "execution_count": 56,
     "metadata": {},
     "output_type": "execute_result"
    }
   ],
   "source": [
    "nextpurchase.head()"
   ]
  },
  {
   "cell_type": "code",
   "execution_count": 57,
   "metadata": {
    "execution": {
     "iopub.execute_input": "2023-01-22T15:51:59.032453Z",
     "iopub.status.busy": "2023-01-22T15:51:59.032100Z",
     "iopub.status.idle": "2023-01-22T15:51:59.041147Z",
     "shell.execute_reply": "2023-01-22T15:51:59.039718Z",
     "shell.execute_reply.started": "2023-01-22T15:51:59.032427Z"
    }
   },
   "outputs": [],
   "source": [
    "nextpurchase['score'] = nextpurchase['RecencyCluster']+nextpurchase['frequencyCluster']+nextpurchase['revenueCluster']"
   ]
  },
  {
   "cell_type": "code",
   "execution_count": 58,
   "metadata": {
    "execution": {
     "iopub.execute_input": "2023-01-22T15:51:59.043055Z",
     "iopub.status.busy": "2023-01-22T15:51:59.042535Z",
     "iopub.status.idle": "2023-01-22T15:51:59.061221Z",
     "shell.execute_reply": "2023-01-22T15:51:59.059956Z",
     "shell.execute_reply.started": "2023-01-22T15:51:59.043021Z"
    }
   },
   "outputs": [
    {
     "data": {
      "text/html": [
       "<div>\n",
       "<style scoped>\n",
       "    .dataframe tbody tr th:only-of-type {\n",
       "        vertical-align: middle;\n",
       "    }\n",
       "\n",
       "    .dataframe tbody tr th {\n",
       "        vertical-align: top;\n",
       "    }\n",
       "\n",
       "    .dataframe thead th {\n",
       "        text-align: right;\n",
       "    }\n",
       "</style>\n",
       "<table border=\"1\" class=\"dataframe\">\n",
       "  <thead>\n",
       "    <tr style=\"text-align: right;\">\n",
       "      <th></th>\n",
       "      <th>Recency</th>\n",
       "      <th>frequency</th>\n",
       "      <th>revenue</th>\n",
       "    </tr>\n",
       "    <tr>\n",
       "      <th>score</th>\n",
       "      <th></th>\n",
       "      <th></th>\n",
       "      <th></th>\n",
       "    </tr>\n",
       "  </thead>\n",
       "  <tbody>\n",
       "    <tr>\n",
       "      <th>2</th>\n",
       "      <td>64.800000</td>\n",
       "      <td>9.600000</td>\n",
       "      <td>722.200000</td>\n",
       "    </tr>\n",
       "    <tr>\n",
       "      <th>3</th>\n",
       "      <td>69.552494</td>\n",
       "      <td>1.776247</td>\n",
       "      <td>198.866079</td>\n",
       "    </tr>\n",
       "    <tr>\n",
       "      <th>4</th>\n",
       "      <td>46.570074</td>\n",
       "      <td>2.783983</td>\n",
       "      <td>305.368952</td>\n",
       "    </tr>\n",
       "    <tr>\n",
       "      <th>5</th>\n",
       "      <td>22.439394</td>\n",
       "      <td>6.095471</td>\n",
       "      <td>564.703661</td>\n",
       "    </tr>\n",
       "    <tr>\n",
       "      <th>6</th>\n",
       "      <td>5.729541</td>\n",
       "      <td>8.899202</td>\n",
       "      <td>945.653406</td>\n",
       "    </tr>\n",
       "    <tr>\n",
       "      <th>7</th>\n",
       "      <td>4.964346</td>\n",
       "      <td>11.112054</td>\n",
       "      <td>2315.901290</td>\n",
       "    </tr>\n",
       "    <tr>\n",
       "      <th>8</th>\n",
       "      <td>4.444444</td>\n",
       "      <td>13.888889</td>\n",
       "      <td>6766.555556</td>\n",
       "    </tr>\n",
       "  </tbody>\n",
       "</table>\n",
       "</div>"
      ],
      "text/plain": [
       "         Recency  frequency      revenue\n",
       "score                                   \n",
       "2      64.800000   9.600000   722.200000\n",
       "3      69.552494   1.776247   198.866079\n",
       "4      46.570074   2.783983   305.368952\n",
       "5      22.439394   6.095471   564.703661\n",
       "6       5.729541   8.899202   945.653406\n",
       "7       4.964346  11.112054  2315.901290\n",
       "8       4.444444  13.888889  6766.555556"
      ]
     },
     "execution_count": 58,
     "metadata": {},
     "output_type": "execute_result"
    }
   ],
   "source": [
    "nextpurchase.groupby('score')[['Recency','frequency','revenue']].mean()"
   ]
  },
  {
   "cell_type": "markdown",
   "metadata": {},
   "source": [
    "we will choose 6-7-8 be our best "
   ]
  },
  {
   "cell_type": "code",
   "execution_count": 59,
   "metadata": {
    "execution": {
     "iopub.execute_input": "2023-01-22T15:51:59.063184Z",
     "iopub.status.busy": "2023-01-22T15:51:59.062812Z",
     "iopub.status.idle": "2023-01-22T15:51:59.073862Z",
     "shell.execute_reply": "2023-01-22T15:51:59.071574Z",
     "shell.execute_reply.started": "2023-01-22T15:51:59.063158Z"
    }
   },
   "outputs": [],
   "source": [
    "nextpurchase['segment'] = 'Low'\n",
    "nextpurchase.loc[nextpurchase.score >= 6,['segment']] = 'High'"
   ]
  },
  {
   "cell_type": "code",
   "execution_count": 60,
   "metadata": {
    "execution": {
     "iopub.execute_input": "2023-01-22T15:51:59.076561Z",
     "iopub.status.busy": "2023-01-22T15:51:59.076116Z",
     "iopub.status.idle": "2023-01-22T15:51:59.095132Z",
     "shell.execute_reply": "2023-01-22T15:51:59.093644Z",
     "shell.execute_reply.started": "2023-01-22T15:51:59.076519Z"
    }
   },
   "outputs": [
    {
     "data": {
      "text/html": [
       "<div>\n",
       "<style scoped>\n",
       "    .dataframe tbody tr th:only-of-type {\n",
       "        vertical-align: middle;\n",
       "    }\n",
       "\n",
       "    .dataframe tbody tr th {\n",
       "        vertical-align: top;\n",
       "    }\n",
       "\n",
       "    .dataframe thead th {\n",
       "        text-align: right;\n",
       "    }\n",
       "</style>\n",
       "<table border=\"1\" class=\"dataframe\">\n",
       "  <thead>\n",
       "    <tr style=\"text-align: right;\">\n",
       "      <th></th>\n",
       "      <th>user_id</th>\n",
       "      <th>nextpurchaseday</th>\n",
       "      <th>Recency</th>\n",
       "      <th>RecencyCluster</th>\n",
       "      <th>frequency</th>\n",
       "      <th>frequencyCluster</th>\n",
       "      <th>revenue</th>\n",
       "      <th>revenueCluster</th>\n",
       "      <th>score</th>\n",
       "      <th>segment</th>\n",
       "    </tr>\n",
       "  </thead>\n",
       "  <tbody>\n",
       "    <tr>\n",
       "      <th>0</th>\n",
       "      <td>user_16203</td>\n",
       "      <td>0.0</td>\n",
       "      <td>0</td>\n",
       "      <td>3</td>\n",
       "      <td>3</td>\n",
       "      <td>3</td>\n",
       "      <td>354.0</td>\n",
       "      <td>0</td>\n",
       "      <td>6</td>\n",
       "      <td>High</td>\n",
       "    </tr>\n",
       "    <tr>\n",
       "      <th>1</th>\n",
       "      <td>user_7609</td>\n",
       "      <td>0.0</td>\n",
       "      <td>0</td>\n",
       "      <td>3</td>\n",
       "      <td>7</td>\n",
       "      <td>3</td>\n",
       "      <td>429.0</td>\n",
       "      <td>0</td>\n",
       "      <td>6</td>\n",
       "      <td>High</td>\n",
       "    </tr>\n",
       "    <tr>\n",
       "      <th>2</th>\n",
       "      <td>user_15276</td>\n",
       "      <td>0.0</td>\n",
       "      <td>0</td>\n",
       "      <td>3</td>\n",
       "      <td>1</td>\n",
       "      <td>3</td>\n",
       "      <td>40.0</td>\n",
       "      <td>0</td>\n",
       "      <td>6</td>\n",
       "      <td>High</td>\n",
       "    </tr>\n",
       "    <tr>\n",
       "      <th>3</th>\n",
       "      <td>user_7870</td>\n",
       "      <td>0.0</td>\n",
       "      <td>0</td>\n",
       "      <td>3</td>\n",
       "      <td>6</td>\n",
       "      <td>3</td>\n",
       "      <td>750.0</td>\n",
       "      <td>0</td>\n",
       "      <td>6</td>\n",
       "      <td>High</td>\n",
       "    </tr>\n",
       "    <tr>\n",
       "      <th>4</th>\n",
       "      <td>user_11858</td>\n",
       "      <td>0.0</td>\n",
       "      <td>0</td>\n",
       "      <td>3</td>\n",
       "      <td>1</td>\n",
       "      <td>3</td>\n",
       "      <td>154.0</td>\n",
       "      <td>0</td>\n",
       "      <td>6</td>\n",
       "      <td>High</td>\n",
       "    </tr>\n",
       "  </tbody>\n",
       "</table>\n",
       "</div>"
      ],
      "text/plain": [
       "      user_id  nextpurchaseday  Recency  RecencyCluster  frequency  \\\n",
       "0  user_16203              0.0        0               3          3   \n",
       "1   user_7609              0.0        0               3          7   \n",
       "2  user_15276              0.0        0               3          1   \n",
       "3   user_7870              0.0        0               3          6   \n",
       "4  user_11858              0.0        0               3          1   \n",
       "\n",
       "   frequencyCluster  revenue  revenueCluster  score segment  \n",
       "0                 3    354.0               0      6    High  \n",
       "1                 3    429.0               0      6    High  \n",
       "2                 3     40.0               0      6    High  \n",
       "3                 3    750.0               0      6    High  \n",
       "4                 3    154.0               0      6    High  "
      ]
     },
     "execution_count": 60,
     "metadata": {},
     "output_type": "execute_result"
    }
   ],
   "source": [
    "nextpurchase.head()"
   ]
  },
  {
   "cell_type": "markdown",
   "metadata": {},
   "source": [
    "**2.ORDER TIME AVERAGE**\n",
    "\n",
    "ตัวแปรนี้ได้มาจากการทำ EDA1 และ EDA2 โดยเราจะแบ่ง cluster คล้ายกับ RFM แต่จะใช้เป็นการกำหนดช่วงที่อยากได้แทน การใช้ kmeans\n",
    "โดยจะมี feature ใหม่ 3 อันคือ \n",
    "\n",
    "interval  = ระยะห่างระหว่าง 2 ออร์เดอร์ ล่าสุด (วัน)\n",
    "\n",
    "intervalcluster = clustter ของ interval แบ่งตามassumption ใน EDA 1\n",
    "\n",
    "isjustregister = ผู้ใช้ได้สมัครแอพภายใน 30 วันหรือไม่ (yes,no)"
   ]
  },
  {
   "cell_type": "code",
   "execution_count": 61,
   "metadata": {
    "execution": {
     "iopub.execute_input": "2023-01-22T15:51:59.098566Z",
     "iopub.status.busy": "2023-01-22T15:51:59.097429Z",
     "iopub.status.idle": "2023-01-22T15:51:59.274402Z",
     "shell.execute_reply": "2023-01-22T15:51:59.272056Z",
     "shell.execute_reply.started": "2023-01-22T15:51:59.098530Z"
    }
   },
   "outputs": [],
   "source": [
    "t_all = invoice.groupby('user_id').df_createtime.agg(['max','min','count']).reset_index()\n",
    "daydiff = invoice[['user_id','df_createtime']].merge(dtusercreate , on = 'user_id').groupby('user_id')[['df_createtime','dtcreate']].max().reset_index()\n",
    "\n",
    "daydiff['dayfrombegin'] = (daydiff['df_createtime'] - daydiff['dtcreate']).dt.days\n",
    "t_all = t_all.merge(daydiff[['user_id' , 'dayfrombegin']] , on = 'user_id')\n",
    "t_all['av_day'] = ((t_all['max'] - t_all['min']).dt.days)/(t_all['count'])\n",
    "t_all['interval'] = ((t_all['max'] - t_all['min']).dt.days)\n"
   ]
  },
  {
   "cell_type": "code",
   "execution_count": 62,
   "metadata": {
    "execution": {
     "iopub.execute_input": "2023-01-22T15:51:59.277718Z",
     "iopub.status.busy": "2023-01-22T15:51:59.277111Z",
     "iopub.status.idle": "2023-01-22T15:51:59.309755Z",
     "shell.execute_reply": "2023-01-22T15:51:59.307941Z",
     "shell.execute_reply.started": "2023-01-22T15:51:59.277647Z"
    }
   },
   "outputs": [
    {
     "data": {
      "text/html": [
       "<div>\n",
       "<style scoped>\n",
       "    .dataframe tbody tr th:only-of-type {\n",
       "        vertical-align: middle;\n",
       "    }\n",
       "\n",
       "    .dataframe tbody tr th {\n",
       "        vertical-align: top;\n",
       "    }\n",
       "\n",
       "    .dataframe thead th {\n",
       "        text-align: right;\n",
       "    }\n",
       "</style>\n",
       "<table border=\"1\" class=\"dataframe\">\n",
       "  <thead>\n",
       "    <tr style=\"text-align: right;\">\n",
       "      <th></th>\n",
       "      <th>user_id</th>\n",
       "      <th>max</th>\n",
       "      <th>min</th>\n",
       "      <th>count</th>\n",
       "      <th>dayfrombegin</th>\n",
       "      <th>av_day</th>\n",
       "      <th>interval</th>\n",
       "      <th>intervalcluster</th>\n",
       "      <th>isjustregister</th>\n",
       "    </tr>\n",
       "  </thead>\n",
       "  <tbody>\n",
       "    <tr>\n",
       "      <th>0</th>\n",
       "      <td>user_0</td>\n",
       "      <td>2021-03-02 12:00:26</td>\n",
       "      <td>2021-03-02 12:00:26</td>\n",
       "      <td>1</td>\n",
       "      <td>195</td>\n",
       "      <td>0.000000</td>\n",
       "      <td>0</td>\n",
       "      <td>Zero</td>\n",
       "      <td>No</td>\n",
       "    </tr>\n",
       "    <tr>\n",
       "      <th>1</th>\n",
       "      <td>user_1</td>\n",
       "      <td>2021-02-28 18:36:53</td>\n",
       "      <td>2021-02-28 18:36:53</td>\n",
       "      <td>1</td>\n",
       "      <td>1214</td>\n",
       "      <td>0.000000</td>\n",
       "      <td>0</td>\n",
       "      <td>Zero</td>\n",
       "      <td>No</td>\n",
       "    </tr>\n",
       "    <tr>\n",
       "      <th>2</th>\n",
       "      <td>user_10</td>\n",
       "      <td>2021-03-13 17:42:21</td>\n",
       "      <td>2021-01-04 11:30:27</td>\n",
       "      <td>15</td>\n",
       "      <td>168</td>\n",
       "      <td>4.533333</td>\n",
       "      <td>68</td>\n",
       "      <td>Low</td>\n",
       "      <td>No</td>\n",
       "    </tr>\n",
       "    <tr>\n",
       "      <th>3</th>\n",
       "      <td>user_100</td>\n",
       "      <td>2021-02-23 00:33:43</td>\n",
       "      <td>2021-01-27 15:19:18</td>\n",
       "      <td>7</td>\n",
       "      <td>203</td>\n",
       "      <td>3.714286</td>\n",
       "      <td>26</td>\n",
       "      <td>Low</td>\n",
       "      <td>No</td>\n",
       "    </tr>\n",
       "    <tr>\n",
       "      <th>4</th>\n",
       "      <td>user_1000</td>\n",
       "      <td>2021-01-06 12:24:06</td>\n",
       "      <td>2021-01-06 12:24:06</td>\n",
       "      <td>1</td>\n",
       "      <td>1454</td>\n",
       "      <td>0.000000</td>\n",
       "      <td>0</td>\n",
       "      <td>Zero</td>\n",
       "      <td>No</td>\n",
       "    </tr>\n",
       "    <tr>\n",
       "      <th>...</th>\n",
       "      <td>...</td>\n",
       "      <td>...</td>\n",
       "      <td>...</td>\n",
       "      <td>...</td>\n",
       "      <td>...</td>\n",
       "      <td>...</td>\n",
       "      <td>...</td>\n",
       "      <td>...</td>\n",
       "      <td>...</td>\n",
       "    </tr>\n",
       "    <tr>\n",
       "      <th>22187</th>\n",
       "      <td>user_9995</td>\n",
       "      <td>2021-02-02 17:47:28</td>\n",
       "      <td>2021-02-02 17:47:28</td>\n",
       "      <td>1</td>\n",
       "      <td>1310</td>\n",
       "      <td>0.000000</td>\n",
       "      <td>0</td>\n",
       "      <td>Zero</td>\n",
       "      <td>No</td>\n",
       "    </tr>\n",
       "    <tr>\n",
       "      <th>22188</th>\n",
       "      <td>user_9996</td>\n",
       "      <td>2021-01-02 12:57:32</td>\n",
       "      <td>2021-01-01 18:00:05</td>\n",
       "      <td>4</td>\n",
       "      <td>512</td>\n",
       "      <td>0.000000</td>\n",
       "      <td>0</td>\n",
       "      <td>High</td>\n",
       "      <td>No</td>\n",
       "    </tr>\n",
       "    <tr>\n",
       "      <th>22189</th>\n",
       "      <td>user_9997</td>\n",
       "      <td>2021-03-13 17:57:37</td>\n",
       "      <td>2021-03-13 17:57:37</td>\n",
       "      <td>1</td>\n",
       "      <td>0</td>\n",
       "      <td>0.000000</td>\n",
       "      <td>0</td>\n",
       "      <td>Zero</td>\n",
       "      <td>Yes</td>\n",
       "    </tr>\n",
       "    <tr>\n",
       "      <th>22190</th>\n",
       "      <td>user_9998</td>\n",
       "      <td>2021-02-16 11:33:26</td>\n",
       "      <td>2021-02-16 11:33:26</td>\n",
       "      <td>1</td>\n",
       "      <td>25</td>\n",
       "      <td>0.000000</td>\n",
       "      <td>0</td>\n",
       "      <td>Zero</td>\n",
       "      <td>Yes</td>\n",
       "    </tr>\n",
       "    <tr>\n",
       "      <th>22191</th>\n",
       "      <td>user_9999</td>\n",
       "      <td>2021-03-07 13:28:30</td>\n",
       "      <td>2021-02-13 10:43:05</td>\n",
       "      <td>3</td>\n",
       "      <td>195</td>\n",
       "      <td>7.333333</td>\n",
       "      <td>22</td>\n",
       "      <td>Low</td>\n",
       "      <td>No</td>\n",
       "    </tr>\n",
       "  </tbody>\n",
       "</table>\n",
       "<p>22192 rows × 9 columns</p>\n",
       "</div>"
      ],
      "text/plain": [
       "         user_id                 max                 min  count  dayfrombegin  \\\n",
       "0         user_0 2021-03-02 12:00:26 2021-03-02 12:00:26      1           195   \n",
       "1         user_1 2021-02-28 18:36:53 2021-02-28 18:36:53      1          1214   \n",
       "2        user_10 2021-03-13 17:42:21 2021-01-04 11:30:27     15           168   \n",
       "3       user_100 2021-02-23 00:33:43 2021-01-27 15:19:18      7           203   \n",
       "4      user_1000 2021-01-06 12:24:06 2021-01-06 12:24:06      1          1454   \n",
       "...          ...                 ...                 ...    ...           ...   \n",
       "22187  user_9995 2021-02-02 17:47:28 2021-02-02 17:47:28      1          1310   \n",
       "22188  user_9996 2021-01-02 12:57:32 2021-01-01 18:00:05      4           512   \n",
       "22189  user_9997 2021-03-13 17:57:37 2021-03-13 17:57:37      1             0   \n",
       "22190  user_9998 2021-02-16 11:33:26 2021-02-16 11:33:26      1            25   \n",
       "22191  user_9999 2021-03-07 13:28:30 2021-02-13 10:43:05      3           195   \n",
       "\n",
       "         av_day  interval intervalcluster isjustregister  \n",
       "0      0.000000         0            Zero             No  \n",
       "1      0.000000         0            Zero             No  \n",
       "2      4.533333        68             Low             No  \n",
       "3      3.714286        26             Low             No  \n",
       "4      0.000000         0            Zero             No  \n",
       "...         ...       ...             ...            ...  \n",
       "22187  0.000000         0            Zero             No  \n",
       "22188  0.000000         0            High             No  \n",
       "22189  0.000000         0            Zero            Yes  \n",
       "22190  0.000000         0            Zero            Yes  \n",
       "22191  7.333333        22             Low             No  \n",
       "\n",
       "[22192 rows x 9 columns]"
      ]
     },
     "execution_count": 62,
     "metadata": {},
     "output_type": "execute_result"
    }
   ],
   "source": [
    "t_all['intervalcluster'] = 'Low'\n",
    "t_all.loc[((t_all[\"count\"] > 1 ) & (t_all.interval <7)),'intervalcluster'] = 'High'\n",
    "t_all.loc[(t_all[\"count\"]==1 ),'intervalcluster'] = 'Zero'\n",
    "t_all['isjustregister'] = 'No'\n",
    "t_all.loc[t_all.dayfrombegin < 30,'isjustregister'] = 'Yes'\n",
    "t_all"
   ]
  },
  {
   "cell_type": "markdown",
   "metadata": {},
   "source": [
    "**3.TIME UNTIL ORDER AGAIN**\n",
    "\n",
    "feature นี้นั้นคือเวลาเฉลี่ยของแต่ละร้านที่ลูกค้ากลับมาซื้ออีกครั้ง พราะจากการสังเกตพบว่ามีลูกค้าจำนวนมาก สั่งอาหารอีกครั้งในเวลาอันสั้น อาจตั้งสมมุติฐานได้ว่า เมื่อสั่งแล้วเกิดความประทับใจและอยากสั่งอีกครั้งในวันต่อมา หรือ 3 วันต่อมา ดังนั้นเราจะสร้างfeature ชื่อ  eatagain เป็นเวลาเฉลี่ยที่ลูกค้าส่วนใหญ่กลับมากินที่ร้านเดิมอีกครั้ง\n",
    "และเก็บข้อมูลว่าจากข้อมูลทั้งหมด ร้านล่าสุดที่ลูกค้ากินคืออะไร ยกตัวอย่างเช่นและหากสมมุติว่า กินในวันที่ 25 และร้านค้านั้น มีเวลาเฉลี่ยที่ลูกค้าคนอื่นๆกลับมากินซ้ำน้อยกว่า 3 วัน นั่นแสดงว่า ลูกค้าคนนี้นั้นก็จะมีแนวโน้มกลับมากินที่ร้านเดิมอีกภายใน 3 วัน"
   ]
  },
  {
   "cell_type": "code",
   "execution_count": 63,
   "metadata": {
    "execution": {
     "iopub.execute_input": "2023-01-22T15:51:59.312619Z",
     "iopub.status.busy": "2023-01-22T15:51:59.312178Z",
     "iopub.status.idle": "2023-01-22T15:52:06.049992Z",
     "shell.execute_reply": "2023-01-22T15:52:06.048166Z",
     "shell.execute_reply.started": "2023-01-22T15:51:59.312591Z"
    }
   },
   "outputs": [],
   "source": [
    "d = {}\n",
    "dd = {}\n",
    "eatagain = {}\n",
    "\n",
    "def resmani(row):\n",
    "    res = row.restaurant_id\n",
    "    use = row.user_id\n",
    "    if res not in d.keys():\n",
    "        d[res] = {}\n",
    "        dd[res] = {}\n",
    "    if use not in d[res].keys():\n",
    "        d[res][use] = []\n",
    "        dd[res][use] = -1\n",
    "    d[res][use].append(row.df_createtime)\n",
    "    \n",
    "def manipulateres(dfa):\n",
    "    dfa.apply(resmani ,axis = 1)\n",
    "    for i in d.keys():\n",
    "        for j in d[i].keys():\n",
    "            if(len(d[i][j]) != 1):\n",
    "                k = sorted(d[i][j])\n",
    "                dd[i][j] = (k[1]-k[0]).days\n",
    "    cnt = 0\n",
    "    for i in dd.keys():\n",
    "        if (max(list(dd[i].values()))) == -1:\n",
    "            eatagain[i] = 9999\n",
    "        else:\n",
    "            n = 0\n",
    "            s = 0\n",
    "            for j in (list(dd[i].values())):\n",
    "                if j!=-1:\n",
    "                    n+=1\n",
    "                    s+=j\n",
    "            eatagain[i] = s/n\n",
    "    lasttime = pd.DataFrame(dfa.groupby('user_id').df_createtime.idxmax())\n",
    "    eatlast = lasttime.df_createtime.map(lambda b: dfa.loc[b,'restaurant_id']).to_dict()\n",
    "    eatagaindfa = pd.DataFrame(pd.Series(eatagain)).reset_index()\n",
    "    eatagaindfa.columns = ['reslast','eatagain']\n",
    "    #display(eatagaindfa)\n",
    "    eatlastdfa = pd.DataFrame(pd.Series(eatlast)).reset_index()\n",
    "    eatlastdfa.columns = ['user_id','reslast']\n",
    "    #display(eatlastdfa)\n",
    "    \n",
    "    return    eatlastdfa.merge(eatagaindfa ,on = 'reslast')\n",
    "\n",
    "eatfea = manipulateres(invoice) \n"
   ]
  },
  {
   "cell_type": "code",
   "execution_count": 64,
   "metadata": {
    "execution": {
     "iopub.execute_input": "2023-01-22T15:52:06.052728Z",
     "iopub.status.busy": "2023-01-22T15:52:06.052277Z",
     "iopub.status.idle": "2023-01-22T15:52:06.065999Z",
     "shell.execute_reply": "2023-01-22T15:52:06.064104Z",
     "shell.execute_reply.started": "2023-01-22T15:52:06.052677Z"
    }
   },
   "outputs": [
    {
     "data": {
      "text/html": [
       "<div>\n",
       "<style scoped>\n",
       "    .dataframe tbody tr th:only-of-type {\n",
       "        vertical-align: middle;\n",
       "    }\n",
       "\n",
       "    .dataframe tbody tr th {\n",
       "        vertical-align: top;\n",
       "    }\n",
       "\n",
       "    .dataframe thead th {\n",
       "        text-align: right;\n",
       "    }\n",
       "</style>\n",
       "<table border=\"1\" class=\"dataframe\">\n",
       "  <thead>\n",
       "    <tr style=\"text-align: right;\">\n",
       "      <th></th>\n",
       "      <th>user_id</th>\n",
       "      <th>reslast</th>\n",
       "      <th>eatagain</th>\n",
       "    </tr>\n",
       "  </thead>\n",
       "  <tbody>\n",
       "    <tr>\n",
       "      <th>0</th>\n",
       "      <td>user_0</td>\n",
       "      <td>restaurant_931</td>\n",
       "      <td>13.3125</td>\n",
       "    </tr>\n",
       "    <tr>\n",
       "      <th>1</th>\n",
       "      <td>user_10464</td>\n",
       "      <td>restaurant_931</td>\n",
       "      <td>13.3125</td>\n",
       "    </tr>\n",
       "    <tr>\n",
       "      <th>2</th>\n",
       "      <td>user_10840</td>\n",
       "      <td>restaurant_931</td>\n",
       "      <td>13.3125</td>\n",
       "    </tr>\n",
       "    <tr>\n",
       "      <th>3</th>\n",
       "      <td>user_11783</td>\n",
       "      <td>restaurant_931</td>\n",
       "      <td>13.3125</td>\n",
       "    </tr>\n",
       "    <tr>\n",
       "      <th>4</th>\n",
       "      <td>user_13978</td>\n",
       "      <td>restaurant_931</td>\n",
       "      <td>13.3125</td>\n",
       "    </tr>\n",
       "  </tbody>\n",
       "</table>\n",
       "</div>"
      ],
      "text/plain": [
       "      user_id         reslast  eatagain\n",
       "0      user_0  restaurant_931   13.3125\n",
       "1  user_10464  restaurant_931   13.3125\n",
       "2  user_10840  restaurant_931   13.3125\n",
       "3  user_11783  restaurant_931   13.3125\n",
       "4  user_13978  restaurant_931   13.3125"
      ]
     },
     "execution_count": 64,
     "metadata": {},
     "output_type": "execute_result"
    }
   ],
   "source": [
    "eatfea.head()\n",
    "#reslast  ร้านที่ลูกค้ามากินล่าสุด\n",
    "#eatagain  เวลาเฉลี่ยที่ลูกค้ามากินร้านนี้ซ้ำ (วัน)"
   ]
  },
  {
   "cell_type": "code",
   "execution_count": 65,
   "metadata": {
    "execution": {
     "iopub.execute_input": "2023-01-22T15:52:06.068733Z",
     "iopub.status.busy": "2023-01-22T15:52:06.068321Z",
     "iopub.status.idle": "2023-01-22T15:52:06.103595Z",
     "shell.execute_reply": "2023-01-22T15:52:06.101559Z",
     "shell.execute_reply.started": "2023-01-22T15:52:06.068670Z"
    }
   },
   "outputs": [],
   "source": [
    "dum  = nextpurchase.copy()\n",
    "dum = dum.merge(t_all[['user_id','dayfrombegin','av_day','interval','intervalcluster','isjustregister']] , on = 'user_id')\n",
    "dum['eva'] = 1\n",
    "dum.loc[dum.nextpurchaseday > 2 , 'eva'] = 0\n",
    "# ซื้อมากกว่า 3 วันมีค่าเป็น 0 (นับ 0 เป็นวันที่ 1 จึงใช้ > 2 )"
   ]
  },
  {
   "cell_type": "code",
   "execution_count": 66,
   "metadata": {
    "execution": {
     "iopub.execute_input": "2023-01-22T15:52:06.106140Z",
     "iopub.status.busy": "2023-01-22T15:52:06.105827Z",
     "iopub.status.idle": "2023-01-22T15:52:06.133094Z",
     "shell.execute_reply": "2023-01-22T15:52:06.131329Z",
     "shell.execute_reply.started": "2023-01-22T15:52:06.106115Z"
    }
   },
   "outputs": [],
   "source": [
    "dum = dum.merge(eatfea.drop(['reslast'],axis = 1) , on = 'user_id')"
   ]
  },
  {
   "cell_type": "code",
   "execution_count": 67,
   "metadata": {
    "execution": {
     "iopub.execute_input": "2023-01-22T15:52:06.143165Z",
     "iopub.status.busy": "2023-01-22T15:52:06.142893Z",
     "iopub.status.idle": "2023-01-22T15:52:06.167476Z",
     "shell.execute_reply": "2023-01-22T15:52:06.166595Z",
     "shell.execute_reply.started": "2023-01-22T15:52:06.143141Z"
    }
   },
   "outputs": [],
   "source": [
    "bftrain = pd.get_dummies(dum.drop(['user_id','nextpurchaseday'],axis = 1))"
   ]
  },
  {
   "cell_type": "code",
   "execution_count": 68,
   "metadata": {
    "execution": {
     "iopub.execute_input": "2023-01-22T15:52:06.169235Z",
     "iopub.status.busy": "2023-01-22T15:52:06.168953Z",
     "iopub.status.idle": "2023-01-22T15:52:06.185750Z",
     "shell.execute_reply": "2023-01-22T15:52:06.184799Z",
     "shell.execute_reply.started": "2023-01-22T15:52:06.169208Z"
    }
   },
   "outputs": [
    {
     "data": {
      "text/html": [
       "<div>\n",
       "<style scoped>\n",
       "    .dataframe tbody tr th:only-of-type {\n",
       "        vertical-align: middle;\n",
       "    }\n",
       "\n",
       "    .dataframe tbody tr th {\n",
       "        vertical-align: top;\n",
       "    }\n",
       "\n",
       "    .dataframe thead th {\n",
       "        text-align: right;\n",
       "    }\n",
       "</style>\n",
       "<table border=\"1\" class=\"dataframe\">\n",
       "  <thead>\n",
       "    <tr style=\"text-align: right;\">\n",
       "      <th></th>\n",
       "      <th>Recency</th>\n",
       "      <th>RecencyCluster</th>\n",
       "      <th>frequency</th>\n",
       "      <th>frequencyCluster</th>\n",
       "      <th>revenue</th>\n",
       "      <th>revenueCluster</th>\n",
       "      <th>score</th>\n",
       "      <th>dayfrombegin</th>\n",
       "      <th>av_day</th>\n",
       "      <th>interval</th>\n",
       "      <th>eva</th>\n",
       "      <th>eatagain</th>\n",
       "      <th>segment_High</th>\n",
       "      <th>segment_Low</th>\n",
       "      <th>intervalcluster_High</th>\n",
       "      <th>intervalcluster_Low</th>\n",
       "      <th>intervalcluster_Zero</th>\n",
       "      <th>isjustregister_No</th>\n",
       "      <th>isjustregister_Yes</th>\n",
       "    </tr>\n",
       "  </thead>\n",
       "  <tbody>\n",
       "    <tr>\n",
       "      <th>0</th>\n",
       "      <td>0</td>\n",
       "      <td>3</td>\n",
       "      <td>3</td>\n",
       "      <td>3</td>\n",
       "      <td>354.0</td>\n",
       "      <td>0</td>\n",
       "      <td>6</td>\n",
       "      <td>151</td>\n",
       "      <td>0.333333</td>\n",
       "      <td>1</td>\n",
       "      <td>1</td>\n",
       "      <td>3.666667</td>\n",
       "      <td>1</td>\n",
       "      <td>0</td>\n",
       "      <td>1</td>\n",
       "      <td>0</td>\n",
       "      <td>0</td>\n",
       "      <td>1</td>\n",
       "      <td>0</td>\n",
       "    </tr>\n",
       "    <tr>\n",
       "      <th>1</th>\n",
       "      <td>0</td>\n",
       "      <td>3</td>\n",
       "      <td>7</td>\n",
       "      <td>3</td>\n",
       "      <td>429.0</td>\n",
       "      <td>0</td>\n",
       "      <td>6</td>\n",
       "      <td>186</td>\n",
       "      <td>8.571429</td>\n",
       "      <td>60</td>\n",
       "      <td>1</td>\n",
       "      <td>12.074074</td>\n",
       "      <td>1</td>\n",
       "      <td>0</td>\n",
       "      <td>0</td>\n",
       "      <td>1</td>\n",
       "      <td>0</td>\n",
       "      <td>1</td>\n",
       "      <td>0</td>\n",
       "    </tr>\n",
       "    <tr>\n",
       "      <th>2</th>\n",
       "      <td>0</td>\n",
       "      <td>3</td>\n",
       "      <td>1</td>\n",
       "      <td>3</td>\n",
       "      <td>40.0</td>\n",
       "      <td>0</td>\n",
       "      <td>6</td>\n",
       "      <td>0</td>\n",
       "      <td>0.000000</td>\n",
       "      <td>0</td>\n",
       "      <td>1</td>\n",
       "      <td>11.244444</td>\n",
       "      <td>1</td>\n",
       "      <td>0</td>\n",
       "      <td>0</td>\n",
       "      <td>0</td>\n",
       "      <td>1</td>\n",
       "      <td>0</td>\n",
       "      <td>1</td>\n",
       "    </tr>\n",
       "    <tr>\n",
       "      <th>3</th>\n",
       "      <td>0</td>\n",
       "      <td>3</td>\n",
       "      <td>6</td>\n",
       "      <td>3</td>\n",
       "      <td>750.0</td>\n",
       "      <td>0</td>\n",
       "      <td>6</td>\n",
       "      <td>778</td>\n",
       "      <td>12.666667</td>\n",
       "      <td>76</td>\n",
       "      <td>1</td>\n",
       "      <td>13.760000</td>\n",
       "      <td>1</td>\n",
       "      <td>0</td>\n",
       "      <td>0</td>\n",
       "      <td>1</td>\n",
       "      <td>0</td>\n",
       "      <td>1</td>\n",
       "      <td>0</td>\n",
       "    </tr>\n",
       "    <tr>\n",
       "      <th>4</th>\n",
       "      <td>0</td>\n",
       "      <td>3</td>\n",
       "      <td>1</td>\n",
       "      <td>3</td>\n",
       "      <td>154.0</td>\n",
       "      <td>0</td>\n",
       "      <td>6</td>\n",
       "      <td>0</td>\n",
       "      <td>0.000000</td>\n",
       "      <td>0</td>\n",
       "      <td>1</td>\n",
       "      <td>7.875000</td>\n",
       "      <td>1</td>\n",
       "      <td>0</td>\n",
       "      <td>0</td>\n",
       "      <td>0</td>\n",
       "      <td>1</td>\n",
       "      <td>0</td>\n",
       "      <td>1</td>\n",
       "    </tr>\n",
       "  </tbody>\n",
       "</table>\n",
       "</div>"
      ],
      "text/plain": [
       "   Recency  RecencyCluster  frequency  frequencyCluster  revenue  \\\n",
       "0        0               3          3                 3    354.0   \n",
       "1        0               3          7                 3    429.0   \n",
       "2        0               3          1                 3     40.0   \n",
       "3        0               3          6                 3    750.0   \n",
       "4        0               3          1                 3    154.0   \n",
       "\n",
       "   revenueCluster  score  dayfrombegin     av_day  interval  eva   eatagain  \\\n",
       "0               0      6           151   0.333333         1    1   3.666667   \n",
       "1               0      6           186   8.571429        60    1  12.074074   \n",
       "2               0      6             0   0.000000         0    1  11.244444   \n",
       "3               0      6           778  12.666667        76    1  13.760000   \n",
       "4               0      6             0   0.000000         0    1   7.875000   \n",
       "\n",
       "   segment_High  segment_Low  intervalcluster_High  intervalcluster_Low  \\\n",
       "0             1            0                     1                    0   \n",
       "1             1            0                     0                    1   \n",
       "2             1            0                     0                    0   \n",
       "3             1            0                     0                    1   \n",
       "4             1            0                     0                    0   \n",
       "\n",
       "   intervalcluster_Zero  isjustregister_No  isjustregister_Yes  \n",
       "0                     0                  1                   0  \n",
       "1                     0                  1                   0  \n",
       "2                     1                  0                   1  \n",
       "3                     0                  1                   0  \n",
       "4                     1                  0                   1  "
      ]
     },
     "execution_count": 68,
     "metadata": {},
     "output_type": "execute_result"
    }
   ],
   "source": [
    "bftrain.head()"
   ]
  },
  {
   "cell_type": "markdown",
   "metadata": {},
   "source": [
    "# MODEL SELECTION"
   ]
  },
  {
   "cell_type": "code",
   "execution_count": 69,
   "metadata": {
    "execution": {
     "iopub.execute_input": "2023-01-22T15:52:06.134712Z",
     "iopub.status.busy": "2023-01-22T15:52:06.134432Z",
     "iopub.status.idle": "2023-01-22T15:52:06.141369Z",
     "shell.execute_reply": "2023-01-22T15:52:06.139885Z",
     "shell.execute_reply.started": "2023-01-22T15:52:06.134672Z"
    }
   },
   "outputs": [],
   "source": [
    "from sklearn.metrics import roc_auc_score , f1_score , recall_score , precision_score , accuracy_score"
   ]
  },
  {
   "cell_type": "code",
   "execution_count": 70,
   "metadata": {
    "execution": {
     "iopub.execute_input": "2023-01-22T15:52:06.187542Z",
     "iopub.status.busy": "2023-01-22T15:52:06.187243Z",
     "iopub.status.idle": "2023-01-22T15:52:06.208420Z",
     "shell.execute_reply": "2023-01-22T15:52:06.206769Z",
     "shell.execute_reply.started": "2023-01-22T15:52:06.187516Z"
    }
   },
   "outputs": [],
   "source": [
    "X = bftrain.drop(['eva'],axis = 1)\n",
    "y = bftrain['eva']\n",
    "x_train,x_test,y_train,y_test = train_test_split(X,y,test_size = 0.33,random_state = 42)"
   ]
  },
  {
   "cell_type": "markdown",
   "metadata": {},
   "source": [
    "**LogisticRegression**"
   ]
  },
  {
   "cell_type": "code",
   "execution_count": 71,
   "metadata": {
    "execution": {
     "iopub.execute_input": "2023-01-22T15:52:06.210216Z",
     "iopub.status.busy": "2023-01-22T15:52:06.209856Z",
     "iopub.status.idle": "2023-01-22T15:52:09.582558Z",
     "shell.execute_reply": "2023-01-22T15:52:09.579634Z",
     "shell.execute_reply.started": "2023-01-22T15:52:06.210187Z"
    }
   },
   "outputs": [],
   "source": [
    "from sklearn.linear_model import LogisticRegression\n",
    "clf = LogisticRegression(max_iter = 1000, random_state = 42)\n",
    "clf.fit(x_train, y_train)\n",
    "yhat = clf.predict(x_test)\n",
    "modelist = []\n",
    "modelist.append(pd.DataFrame(pd.Series({'roc_auc_score': str(roc_auc_score(yhat,y_test)),\n",
    "'f1_score ':str(f1_score(yhat,y_test)),\n",
    "'recall_score ':str(recall_score(yhat,y_test)),\n",
    "'precision_score ':str(precision_score(yhat,y_test)),\n",
    "'accuracy_score ':str(accuracy_score(yhat,y_test))})).rename(columns = {0 :'logistic_score'}))"
   ]
  },
  {
   "cell_type": "markdown",
   "metadata": {},
   "source": [
    "**KNeighborsClassifier**"
   ]
  },
  {
   "cell_type": "code",
   "execution_count": 72,
   "metadata": {
    "execution": {
     "iopub.execute_input": "2023-01-22T15:52:09.586155Z",
     "iopub.status.busy": "2023-01-22T15:52:09.585781Z",
     "iopub.status.idle": "2023-01-22T15:52:11.255095Z",
     "shell.execute_reply": "2023-01-22T15:52:11.254037Z",
     "shell.execute_reply.started": "2023-01-22T15:52:09.586122Z"
    }
   },
   "outputs": [
    {
     "name": "stderr",
     "output_type": "stream",
     "text": [
      "C:\\Users\\PHUPHA\\anaconda3\\lib\\site-packages\\sklearn\\neighbors\\_classification.py:228: FutureWarning: Unlike other reduction functions (e.g. `skew`, `kurtosis`), the default behavior of `mode` typically preserves the axis it acts along. In SciPy 1.11.0, this behavior will change: the default value of `keepdims` will become False, the `axis` over which the statistic is taken will be eliminated, and the value None will no longer be accepted. Set `keepdims` to True or False to avoid this warning.\n",
      "  mode, _ = stats.mode(_y[neigh_ind, k], axis=1)\n"
     ]
    }
   ],
   "source": [
    "from sklearn.neighbors import KNeighborsClassifier\n",
    "knn = KNeighborsClassifier(n_neighbors=2)\n",
    "knn.fit(x_train,y_train)\n",
    "\n",
    "y_pred = knn.predict(x_test)\n",
    "modelist.append(pd.DataFrame(pd.Series({'roc_auc_score': str(roc_auc_score(y_pred,y_test)),\n",
    "'f1_score ':str(f1_score(y_pred,y_test)),\n",
    "'recall_score ':str(recall_score(y_pred,y_test)),\n",
    "'precision_score ':str(precision_score(y_pred,y_test)),\n",
    "'accuracy_score ':str(accuracy_score(y_pred,y_test))})).rename(columns = {0 :'knn_score'}))"
   ]
  },
  {
   "cell_type": "markdown",
   "metadata": {},
   "source": [
    "**DecisionTreeClassifier**"
   ]
  },
  {
   "cell_type": "code",
   "execution_count": 73,
   "metadata": {
    "execution": {
     "iopub.execute_input": "2023-01-22T15:52:11.257849Z",
     "iopub.status.busy": "2023-01-22T15:52:11.257351Z",
     "iopub.status.idle": "2023-01-22T15:52:11.313555Z",
     "shell.execute_reply": "2023-01-22T15:52:11.312065Z",
     "shell.execute_reply.started": "2023-01-22T15:52:11.257808Z"
    }
   },
   "outputs": [],
   "source": [
    "from sklearn.tree import DecisionTreeClassifier\n",
    "dec_tree = DecisionTreeClassifier()\n",
    "dec_tree.fit(x_train,y_train)\n",
    "y_pred = dec_tree.predict(x_test)\n",
    "modelist.append(pd.DataFrame(pd.Series({'roc_auc_score': str(roc_auc_score(y_pred,y_test)),\n",
    "'f1_score ':str(f1_score(y_pred,y_test)),\n",
    "'recall_score ':str(recall_score(y_pred,y_test)),\n",
    "'precision_score ':str(precision_score(y_pred,y_test)),\n",
    "'accuracy_score ':str(accuracy_score(y_pred,y_test))})).rename(columns = {0 :'decisiontree_score'}))"
   ]
  },
  {
   "cell_type": "markdown",
   "metadata": {},
   "source": [
    "**RandomForestClassifier**"
   ]
  },
  {
   "cell_type": "code",
   "execution_count": 74,
   "metadata": {
    "execution": {
     "iopub.execute_input": "2023-01-22T15:52:11.315765Z",
     "iopub.status.busy": "2023-01-22T15:52:11.315398Z",
     "iopub.status.idle": "2023-01-22T15:52:12.602330Z",
     "shell.execute_reply": "2023-01-22T15:52:12.600670Z",
     "shell.execute_reply.started": "2023-01-22T15:52:11.315731Z"
    }
   },
   "outputs": [],
   "source": [
    "from sklearn.ensemble import RandomForestClassifier\n",
    "rand_forest = RandomForestClassifier(n_estimators=100, random_state=42)\n",
    "rand_forest.fit(x_train,y_train)\n",
    "y_pred = rand_forest.predict(x_test)\n",
    "modelist.append(pd.DataFrame(pd.Series({'roc_auc_score': str(roc_auc_score(y_pred,y_test)),\n",
    "'f1_score ':str(f1_score(y_pred,y_test)),\n",
    "'recall_score ':str(recall_score(y_pred,y_test)),\n",
    "'precision_score ':str(precision_score(y_pred,y_test)),\n",
    "'accuracy_score ':str(accuracy_score(y_pred,y_test))})).rename(columns = {0 :'randomforestscore'}))"
   ]
  },
  {
   "cell_type": "markdown",
   "metadata": {},
   "source": [
    "**GaussianNB**"
   ]
  },
  {
   "cell_type": "code",
   "execution_count": 75,
   "metadata": {
    "execution": {
     "iopub.execute_input": "2023-01-22T15:52:12.604470Z",
     "iopub.status.busy": "2023-01-22T15:52:12.604071Z",
     "iopub.status.idle": "2023-01-22T15:52:12.629226Z",
     "shell.execute_reply": "2023-01-22T15:52:12.627682Z",
     "shell.execute_reply.started": "2023-01-22T15:52:12.604435Z"
    }
   },
   "outputs": [],
   "source": [
    "from sklearn.naive_bayes import GaussianNB\n",
    "naive_bayes = GaussianNB()\n",
    "naive_bayes.fit(x_test,y_test)\n",
    "y_pred = naive_bayes.predict(x_test)\n",
    "\n",
    "\n",
    "modelist.append(pd.DataFrame(pd.Series({'roc_auc_score': str(roc_auc_score(y_pred,y_test)),\n",
    "'f1_score ':str(f1_score(y_pred,y_test)),\n",
    "'recall_score ':str(recall_score(y_pred,y_test)),\n",
    "'precision_score ':str(precision_score(y_pred,y_test)),\n",
    "'accuracy_score ':str(accuracy_score(y_pred,y_test))})).rename(columns = {0 :'gaussiannb_score'}))"
   ]
  },
  {
   "cell_type": "markdown",
   "metadata": {},
   "source": [
    "# MODEL EVALUATION"
   ]
  },
  {
   "cell_type": "code",
   "execution_count": 76,
   "metadata": {
    "execution": {
     "iopub.execute_input": "2023-01-22T15:52:12.631918Z",
     "iopub.status.busy": "2023-01-22T15:52:12.631408Z",
     "iopub.status.idle": "2023-01-22T15:52:12.649686Z",
     "shell.execute_reply": "2023-01-22T15:52:12.648561Z",
     "shell.execute_reply.started": "2023-01-22T15:52:12.631881Z"
    }
   },
   "outputs": [
    {
     "data": {
      "text/html": [
       "<div>\n",
       "<style scoped>\n",
       "    .dataframe tbody tr th:only-of-type {\n",
       "        vertical-align: middle;\n",
       "    }\n",
       "\n",
       "    .dataframe tbody tr th {\n",
       "        vertical-align: top;\n",
       "    }\n",
       "\n",
       "    .dataframe thead th {\n",
       "        text-align: right;\n",
       "    }\n",
       "</style>\n",
       "<table border=\"1\" class=\"dataframe\">\n",
       "  <thead>\n",
       "    <tr style=\"text-align: right;\">\n",
       "      <th></th>\n",
       "      <th>logistic_score</th>\n",
       "      <th>knn_score</th>\n",
       "      <th>decisiontree_score</th>\n",
       "      <th>randomforestscore</th>\n",
       "      <th>gaussiannb_score</th>\n",
       "    </tr>\n",
       "  </thead>\n",
       "  <tbody>\n",
       "    <tr>\n",
       "      <th>roc_auc_score</th>\n",
       "      <td>0.8292139131773887</td>\n",
       "      <td>0.6514912572564999</td>\n",
       "      <td>0.7180459037898125</td>\n",
       "      <td>0.811031197223926</td>\n",
       "      <td>0.6603292649547129</td>\n",
       "    </tr>\n",
       "    <tr>\n",
       "      <th>f1_score</th>\n",
       "      <td>0.6151645207439199</td>\n",
       "      <td>0.13473684210526315</td>\n",
       "      <td>0.4731457800511509</td>\n",
       "      <td>0.5912305516265913</td>\n",
       "      <td>0.4772079772079772</td>\n",
       "    </tr>\n",
       "    <tr>\n",
       "      <th>recall_score</th>\n",
       "      <td>0.6825396825396826</td>\n",
       "      <td>0.3516483516483517</td>\n",
       "      <td>0.4648241206030151</td>\n",
       "      <td>0.6470588235294118</td>\n",
       "      <td>0.3284313725490196</td>\n",
       "    </tr>\n",
       "    <tr>\n",
       "      <th>precision_score</th>\n",
       "      <td>0.5598958333333334</td>\n",
       "      <td>0.08333333333333333</td>\n",
       "      <td>0.4817708333333333</td>\n",
       "      <td>0.5442708333333334</td>\n",
       "      <td>0.8723958333333334</td>\n",
       "    </tr>\n",
       "    <tr>\n",
       "      <th>accuracy_score</th>\n",
       "      <td>0.9632714363735664</td>\n",
       "      <td>0.9438831239759694</td>\n",
       "      <td>0.9437465865647188</td>\n",
       "      <td>0.9605406881485528</td>\n",
       "      <td>0.899781540141999</td>\n",
       "    </tr>\n",
       "  </tbody>\n",
       "</table>\n",
       "</div>"
      ],
      "text/plain": [
       "                      logistic_score            knn_score  decisiontree_score  \\\n",
       "roc_auc_score     0.8292139131773887   0.6514912572564999  0.7180459037898125   \n",
       "f1_score          0.6151645207439199  0.13473684210526315  0.4731457800511509   \n",
       "recall_score      0.6825396825396826   0.3516483516483517  0.4648241206030151   \n",
       "precision_score   0.5598958333333334  0.08333333333333333  0.4817708333333333   \n",
       "accuracy_score    0.9632714363735664   0.9438831239759694  0.9437465865647188   \n",
       "\n",
       "                   randomforestscore    gaussiannb_score  \n",
       "roc_auc_score      0.811031197223926  0.6603292649547129  \n",
       "f1_score          0.5912305516265913  0.4772079772079772  \n",
       "recall_score      0.6470588235294118  0.3284313725490196  \n",
       "precision_score   0.5442708333333334  0.8723958333333334  \n",
       "accuracy_score    0.9605406881485528   0.899781540141999  "
      ]
     },
     "execution_count": 76,
     "metadata": {},
     "output_type": "execute_result"
    }
   ],
   "source": [
    "pd.concat(modelist,axis = 1)"
   ]
  },
  {
   "cell_type": "markdown",
   "metadata": {},
   "source": [
    "**เราจะเลือก logistic regression model เพราะมี f1 score สูงที่สุด แต่เราจะเพิ่มประสิทธิภาพด้วยการตัด feature  ที่ไม่จำเป็นบางอย่างออก**"
   ]
  },
  {
   "cell_type": "code",
   "execution_count": 77,
   "metadata": {
    "execution": {
     "iopub.execute_input": "2023-01-22T15:52:12.652130Z",
     "iopub.status.busy": "2023-01-22T15:52:12.651521Z",
     "iopub.status.idle": "2023-01-22T15:52:14.249475Z",
     "shell.execute_reply": "2023-01-22T15:52:14.248443Z",
     "shell.execute_reply.started": "2023-01-22T15:52:12.652092Z"
    }
   },
   "outputs": [
    {
     "data": {
      "text/plain": [
       "<AxesSubplot:>"
      ]
     },
     "execution_count": 77,
     "metadata": {},
     "output_type": "execute_result"
    },
    {
     "data": {
      "image/png": "[encoded data removed]",
      "text/plain": [
       "<Figure size 1400x600 with 2 Axes>"
      ]
     },
     "metadata": {},
     "output_type": "display_data"
    }
   ],
   "source": [
    "plt.figure(figsize = (14,6))\n",
    "sns.heatmap(bftrain.corr(),annot = True)"
   ]
  },
  {
   "cell_type": "code",
   "execution_count": 78,
   "metadata": {
    "execution": {
     "iopub.execute_input": "2023-01-22T15:52:14.251469Z",
     "iopub.status.busy": "2023-01-22T15:52:14.250974Z",
     "iopub.status.idle": "2023-01-22T15:52:14.274455Z",
     "shell.execute_reply": "2023-01-22T15:52:14.272356Z",
     "shell.execute_reply.started": "2023-01-22T15:52:14.251425Z"
    }
   },
   "outputs": [
    {
     "data": {
      "text/html": [
       "<div>\n",
       "<style scoped>\n",
       "    .dataframe tbody tr th:only-of-type {\n",
       "        vertical-align: middle;\n",
       "    }\n",
       "\n",
       "    .dataframe tbody tr th {\n",
       "        vertical-align: top;\n",
       "    }\n",
       "\n",
       "    .dataframe thead th {\n",
       "        text-align: right;\n",
       "    }\n",
       "</style>\n",
       "<table border=\"1\" class=\"dataframe\">\n",
       "  <thead>\n",
       "    <tr style=\"text-align: right;\">\n",
       "      <th></th>\n",
       "      <th>Recency</th>\n",
       "      <th>RecencyCluster</th>\n",
       "      <th>frequency</th>\n",
       "      <th>frequencyCluster</th>\n",
       "      <th>revenue</th>\n",
       "      <th>revenueCluster</th>\n",
       "      <th>score</th>\n",
       "      <th>dayfrombegin</th>\n",
       "      <th>av_day</th>\n",
       "      <th>interval</th>\n",
       "      <th>eva</th>\n",
       "      <th>eatagain</th>\n",
       "      <th>segment_High</th>\n",
       "      <th>segment_Low</th>\n",
       "      <th>intervalcluster_High</th>\n",
       "      <th>intervalcluster_Low</th>\n",
       "      <th>intervalcluster_Zero</th>\n",
       "      <th>isjustregister_No</th>\n",
       "      <th>isjustregister_Yes</th>\n",
       "    </tr>\n",
       "  </thead>\n",
       "  <tbody>\n",
       "    <tr>\n",
       "      <th>0</th>\n",
       "      <td>0</td>\n",
       "      <td>3</td>\n",
       "      <td>3</td>\n",
       "      <td>3</td>\n",
       "      <td>354.0</td>\n",
       "      <td>0</td>\n",
       "      <td>6</td>\n",
       "      <td>151</td>\n",
       "      <td>0.333333</td>\n",
       "      <td>1</td>\n",
       "      <td>1</td>\n",
       "      <td>3.666667</td>\n",
       "      <td>1</td>\n",
       "      <td>0</td>\n",
       "      <td>1</td>\n",
       "      <td>0</td>\n",
       "      <td>0</td>\n",
       "      <td>1</td>\n",
       "      <td>0</td>\n",
       "    </tr>\n",
       "    <tr>\n",
       "      <th>1</th>\n",
       "      <td>0</td>\n",
       "      <td>3</td>\n",
       "      <td>7</td>\n",
       "      <td>3</td>\n",
       "      <td>429.0</td>\n",
       "      <td>0</td>\n",
       "      <td>6</td>\n",
       "      <td>186</td>\n",
       "      <td>8.571429</td>\n",
       "      <td>60</td>\n",
       "      <td>1</td>\n",
       "      <td>12.074074</td>\n",
       "      <td>1</td>\n",
       "      <td>0</td>\n",
       "      <td>0</td>\n",
       "      <td>1</td>\n",
       "      <td>0</td>\n",
       "      <td>1</td>\n",
       "      <td>0</td>\n",
       "    </tr>\n",
       "    <tr>\n",
       "      <th>2</th>\n",
       "      <td>0</td>\n",
       "      <td>3</td>\n",
       "      <td>1</td>\n",
       "      <td>3</td>\n",
       "      <td>40.0</td>\n",
       "      <td>0</td>\n",
       "      <td>6</td>\n",
       "      <td>0</td>\n",
       "      <td>0.000000</td>\n",
       "      <td>0</td>\n",
       "      <td>1</td>\n",
       "      <td>11.244444</td>\n",
       "      <td>1</td>\n",
       "      <td>0</td>\n",
       "      <td>0</td>\n",
       "      <td>0</td>\n",
       "      <td>1</td>\n",
       "      <td>0</td>\n",
       "      <td>1</td>\n",
       "    </tr>\n",
       "    <tr>\n",
       "      <th>3</th>\n",
       "      <td>0</td>\n",
       "      <td>3</td>\n",
       "      <td>6</td>\n",
       "      <td>3</td>\n",
       "      <td>750.0</td>\n",
       "      <td>0</td>\n",
       "      <td>6</td>\n",
       "      <td>778</td>\n",
       "      <td>12.666667</td>\n",
       "      <td>76</td>\n",
       "      <td>1</td>\n",
       "      <td>13.760000</td>\n",
       "      <td>1</td>\n",
       "      <td>0</td>\n",
       "      <td>0</td>\n",
       "      <td>1</td>\n",
       "      <td>0</td>\n",
       "      <td>1</td>\n",
       "      <td>0</td>\n",
       "    </tr>\n",
       "    <tr>\n",
       "      <th>4</th>\n",
       "      <td>0</td>\n",
       "      <td>3</td>\n",
       "      <td>1</td>\n",
       "      <td>3</td>\n",
       "      <td>154.0</td>\n",
       "      <td>0</td>\n",
       "      <td>6</td>\n",
       "      <td>0</td>\n",
       "      <td>0.000000</td>\n",
       "      <td>0</td>\n",
       "      <td>1</td>\n",
       "      <td>7.875000</td>\n",
       "      <td>1</td>\n",
       "      <td>0</td>\n",
       "      <td>0</td>\n",
       "      <td>0</td>\n",
       "      <td>1</td>\n",
       "      <td>0</td>\n",
       "      <td>1</td>\n",
       "    </tr>\n",
       "  </tbody>\n",
       "</table>\n",
       "</div>"
      ],
      "text/plain": [
       "   Recency  RecencyCluster  frequency  frequencyCluster  revenue  \\\n",
       "0        0               3          3                 3    354.0   \n",
       "1        0               3          7                 3    429.0   \n",
       "2        0               3          1                 3     40.0   \n",
       "3        0               3          6                 3    750.0   \n",
       "4        0               3          1                 3    154.0   \n",
       "\n",
       "   revenueCluster  score  dayfrombegin     av_day  interval  eva   eatagain  \\\n",
       "0               0      6           151   0.333333         1    1   3.666667   \n",
       "1               0      6           186   8.571429        60    1  12.074074   \n",
       "2               0      6             0   0.000000         0    1  11.244444   \n",
       "3               0      6           778  12.666667        76    1  13.760000   \n",
       "4               0      6             0   0.000000         0    1   7.875000   \n",
       "\n",
       "   segment_High  segment_Low  intervalcluster_High  intervalcluster_Low  \\\n",
       "0             1            0                     1                    0   \n",
       "1             1            0                     0                    1   \n",
       "2             1            0                     0                    0   \n",
       "3             1            0                     0                    1   \n",
       "4             1            0                     0                    0   \n",
       "\n",
       "   intervalcluster_Zero  isjustregister_No  isjustregister_Yes  \n",
       "0                     0                  1                   0  \n",
       "1                     0                  1                   0  \n",
       "2                     1                  0                   1  \n",
       "3                     0                  1                   0  \n",
       "4                     1                  0                   1  "
      ]
     },
     "execution_count": 78,
     "metadata": {},
     "output_type": "execute_result"
    }
   ],
   "source": [
    "bftrain.head()"
   ]
  },
  {
   "cell_type": "code",
   "execution_count": 79,
   "metadata": {
    "execution": {
     "iopub.execute_input": "2023-01-22T15:52:14.277316Z",
     "iopub.status.busy": "2023-01-22T15:52:14.276860Z",
     "iopub.status.idle": "2023-01-22T15:52:15.050791Z",
     "shell.execute_reply": "2023-01-22T15:52:15.048610Z",
     "shell.execute_reply.started": "2023-01-22T15:52:14.277275Z"
    }
   },
   "outputs": [
    {
     "data": {
      "text/html": [
       "<div>\n",
       "<style scoped>\n",
       "    .dataframe tbody tr th:only-of-type {\n",
       "        vertical-align: middle;\n",
       "    }\n",
       "\n",
       "    .dataframe tbody tr th {\n",
       "        vertical-align: top;\n",
       "    }\n",
       "\n",
       "    .dataframe thead th {\n",
       "        text-align: right;\n",
       "    }\n",
       "</style>\n",
       "<table border=\"1\" class=\"dataframe\">\n",
       "  <thead>\n",
       "    <tr style=\"text-align: right;\">\n",
       "      <th></th>\n",
       "      <th>logistic_score</th>\n",
       "    </tr>\n",
       "  </thead>\n",
       "  <tbody>\n",
       "    <tr>\n",
       "      <th>roc_auc_score</th>\n",
       "      <td>0.8200223568253308</td>\n",
       "    </tr>\n",
       "    <tr>\n",
       "      <th>f1_score</th>\n",
       "      <td>0.6134453781512607</td>\n",
       "    </tr>\n",
       "    <tr>\n",
       "      <th>recall_score</th>\n",
       "      <td>0.6636363636363637</td>\n",
       "    </tr>\n",
       "    <tr>\n",
       "      <th>precision_score</th>\n",
       "      <td>0.5703125</td>\n",
       "    </tr>\n",
       "    <tr>\n",
       "      <th>accuracy_score</th>\n",
       "      <td>0.9623156744948116</td>\n",
       "    </tr>\n",
       "  </tbody>\n",
       "</table>\n",
       "</div>"
      ],
      "text/plain": [
       "                      logistic_score\n",
       "roc_auc_score     0.8200223568253308\n",
       "f1_score          0.6134453781512607\n",
       "recall_score      0.6636363636363637\n",
       "precision_score            0.5703125\n",
       "accuracy_score    0.9623156744948116"
      ]
     },
     "execution_count": 79,
     "metadata": {},
     "output_type": "execute_result"
    }
   ],
   "source": [
    "X = bftrain.drop(['eva','dayfrombegin','score','revenue','interval'],axis = 1)\n",
    "y = bftrain['eva']\n",
    "# ตัด feature 'dayfrombegin','score','revenue','interval'\n",
    "\n",
    "x_train,x_test,y_train,y_test = train_test_split(X,y,test_size = 0.33,random_state = 42)\n",
    "from sklearn.linear_model import LogisticRegression\n",
    "clf = LogisticRegression(max_iter = 1000 , random_state = 42)\n",
    "clf.fit(x_train, y_train)\n",
    "yhat = clf.predict(x_test)\n",
    "pd.DataFrame(pd.Series({'roc_auc_score': str(roc_auc_score(yhat,y_test)),\n",
    "'f1_score ':str(f1_score(yhat,y_test)),\n",
    "'recall_score ':str(recall_score(yhat,y_test)),\n",
    "'precision_score ':str(precision_score(yhat,y_test)),\n",
    "'accuracy_score ':str(accuracy_score(yhat,y_test))})).rename(columns = {0 :'logistic_score'})\n"
   ]
  },
  {
   "cell_type": "markdown",
   "metadata": {},
   "source": [
    "หลังจาก เลือก feature ที่มีประโยชน์แล้ว จะ เห็นได้ว่า ค่าmetrics  ต่างๆเพิ่มขึ้นอย่างเห็นได้ชัด"
   ]
  }
 ],
 "metadata": {
  "kernelspec": {
   "display_name": "Python 3 (ipykernel)",
   "language": "python",
   "name": "python3"
  },
  "language_info": {
   "codemirror_mode": {
    "name": "ipython",
    "version": 3
   },
   "file_extension": ".py",
   "mimetype": "text/x-python",
   "name": "python",
   "nbconvert_exporter": "python",
   "pygments_lexer": "ipython3",
   "version": "3.9.13"
  }
 },
 "nbformat": 4,
 "nbformat_minor": 4
}
